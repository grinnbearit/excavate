{
 "cells": [
  {
   "cell_type": "markdown",
   "metadata": {},
   "source": [
    "# Artifact Booster Price Analysis"
   ]
  },
  {
   "cell_type": "markdown",
   "metadata": {},
   "source": [
    "## Are Artifact Boosters Truly Random?"
   ]
  },
  {
   "cell_type": "markdown",
   "metadata": {},
   "source": [
    "Artifact Boosters cost 2 USD ~ 139 INR and the price hasn't changed since launch, however all artifact cards are freely tradeable on the steam market place. If boosters are truly random this shouldn't be stable.\n",
    "\n",
    "If the expected price of boosters is higher than the market rate for those cards from boosters, people will buy boosters and sell them on the market, this should drive down the card price to at least $P(card) \\times 139$, where $P(card)$ is the probability of finding a card in a booster.\n",
    "\n",
    "I believe this price can be even lower as new cards enter the market, either as part of initial artifact purchases or as excess from constructed or keeper draft. \n",
    "\n",
    "Valve could correct this by changing the distribution of cards in a booster (within the booster constraints) to closely match the market prices in order to have $E(booster) \\sim 139$\n",
    "\n",
    "Recently selling all my boosters on the market netted me ~144 per booster which is close enough to the fixed price of a booster to make me believe that Valve could be doing this. Here I'll be analysing whether how unlikely this is to happen given the ideal distribution of boosters and the price of cards on the market."
   ]
  },
  {
   "cell_type": "code",
   "execution_count": 1,
   "metadata": {},
   "outputs": [],
   "source": [
    "import numpy as np\n",
    "import pandas as pd\n",
    "import seaborn as sns\n",
    "import scipy.stats as stats\n",
    "import matplotlib.pyplot as plt"
   ]
  },
  {
   "cell_type": "code",
   "execution_count": 2,
   "metadata": {},
   "outputs": [],
   "source": [
    "sns.set()"
   ]
  },
  {
   "cell_type": "markdown",
   "metadata": {},
   "source": [
    "## Data Sets"
   ]
  },
  {
   "cell_type": "markdown",
   "metadata": {},
   "source": [
    "### All Artifact Cards\n",
    "\n",
    "Prices have been taken from the Steam Market Place (2018/12/10), card rarity from [ArtifactFire](https://www.artifactfire.com/artifact/cards)"
   ]
  },
  {
   "cell_type": "code",
   "execution_count": 3,
   "metadata": {},
   "outputs": [
    {
     "name": "stdout",
     "output_type": "stream",
     "text": [
      "303 unique cards\n"
     ]
    },
    {
     "data": {
      "text/html": [
       "<div>\n",
       "<style scoped>\n",
       "    .dataframe tbody tr th:only-of-type {\n",
       "        vertical-align: middle;\n",
       "    }\n",
       "\n",
       "    .dataframe tbody tr th {\n",
       "        vertical-align: top;\n",
       "    }\n",
       "\n",
       "    .dataframe thead th {\n",
       "        text-align: right;\n",
       "    }\n",
       "</style>\n",
       "<table border=\"1\" class=\"dataframe\">\n",
       "  <thead>\n",
       "    <tr style=\"text-align: right;\">\n",
       "      <th></th>\n",
       "      <th>name</th>\n",
       "      <th>rarity</th>\n",
       "      <th>type</th>\n",
       "      <th>colour</th>\n",
       "      <th>cost</th>\n",
       "      <th>gold</th>\n",
       "    </tr>\n",
       "  </thead>\n",
       "  <tbody>\n",
       "    <tr>\n",
       "      <th>0</th>\n",
       "      <td>Abaddon</td>\n",
       "      <td>Uncommon</td>\n",
       "      <td>Hero</td>\n",
       "      <td>green</td>\n",
       "      <td>NaN</td>\n",
       "      <td>NaN</td>\n",
       "    </tr>\n",
       "    <tr>\n",
       "      <th>1</th>\n",
       "      <td>Act of Defiance</td>\n",
       "      <td>Uncommon</td>\n",
       "      <td>Spell</td>\n",
       "      <td>green</td>\n",
       "      <td>5.0</td>\n",
       "      <td>NaN</td>\n",
       "    </tr>\n",
       "    <tr>\n",
       "      <th>2</th>\n",
       "      <td>Aghanim's Sanctum</td>\n",
       "      <td>Uncommon</td>\n",
       "      <td>Improvement</td>\n",
       "      <td>blue</td>\n",
       "      <td>4.0</td>\n",
       "      <td>NaN</td>\n",
       "    </tr>\n",
       "    <tr>\n",
       "      <th>3</th>\n",
       "      <td>Allseeing One's Favor</td>\n",
       "      <td>Rare</td>\n",
       "      <td>Spell</td>\n",
       "      <td>green</td>\n",
       "      <td>4.0</td>\n",
       "      <td>NaN</td>\n",
       "    </tr>\n",
       "    <tr>\n",
       "      <th>4</th>\n",
       "      <td>Altar of the Mad Moon</td>\n",
       "      <td>Uncommon</td>\n",
       "      <td>Improvement</td>\n",
       "      <td>green</td>\n",
       "      <td>4.0</td>\n",
       "      <td>NaN</td>\n",
       "    </tr>\n",
       "  </tbody>\n",
       "</table>\n",
       "</div>"
      ],
      "text/plain": [
       "                    name    rarity         type colour  cost  gold\n",
       "0                Abaddon  Uncommon         Hero  green   NaN   NaN\n",
       "1        Act of Defiance  Uncommon        Spell  green   5.0   NaN\n",
       "2      Aghanim's Sanctum  Uncommon  Improvement   blue   4.0   NaN\n",
       "3  Allseeing One's Favor      Rare        Spell  green   4.0   NaN\n",
       "4  Altar of the Mad Moon  Uncommon  Improvement  green   4.0   NaN"
      ]
     },
     "execution_count": 3,
     "metadata": {},
     "output_type": "execute_result"
    }
   ],
   "source": [
    "all_cards = pd.read_csv(\"data/all_cards.csv\")\n",
    "print(len(all_cards), \"unique cards\")\n",
    "all_cards.head()"
   ]
  },
  {
   "cell_type": "markdown",
   "metadata": {},
   "source": [
    "### Market Listings (2018/12/10)"
   ]
  },
  {
   "cell_type": "code",
   "execution_count": 4,
   "metadata": {},
   "outputs": [
    {
     "name": "stdout",
     "output_type": "stream",
     "text": [
      "237 market listings\n"
     ]
    },
    {
     "data": {
      "text/html": [
       "<div>\n",
       "<style scoped>\n",
       "    .dataframe tbody tr th:only-of-type {\n",
       "        vertical-align: middle;\n",
       "    }\n",
       "\n",
       "    .dataframe tbody tr th {\n",
       "        vertical-align: top;\n",
       "    }\n",
       "\n",
       "    .dataframe thead th {\n",
       "        text-align: right;\n",
       "    }\n",
       "</style>\n",
       "<table border=\"1\" class=\"dataframe\">\n",
       "  <thead>\n",
       "    <tr style=\"text-align: right;\">\n",
       "      <th></th>\n",
       "      <th>quantity</th>\n",
       "      <th>price</th>\n",
       "      <th>name</th>\n",
       "    </tr>\n",
       "  </thead>\n",
       "  <tbody>\n",
       "    <tr>\n",
       "      <th>0</th>\n",
       "      <td>2413</td>\n",
       "      <td>2.11</td>\n",
       "      <td>Arcane Assault</td>\n",
       "    </tr>\n",
       "    <tr>\n",
       "      <th>1</th>\n",
       "      <td>2420</td>\n",
       "      <td>2.30</td>\n",
       "      <td>Arcane Censure</td>\n",
       "    </tr>\n",
       "    <tr>\n",
       "      <th>2</th>\n",
       "      <td>6138</td>\n",
       "      <td>2.23</td>\n",
       "      <td>Arm the Rebellion</td>\n",
       "    </tr>\n",
       "    <tr>\n",
       "      <th>3</th>\n",
       "      <td>5277</td>\n",
       "      <td>2.20</td>\n",
       "      <td>Avernus' Blessing</td>\n",
       "    </tr>\n",
       "    <tr>\n",
       "      <th>4</th>\n",
       "      <td>5437</td>\n",
       "      <td>2.14</td>\n",
       "      <td>Bellow</td>\n",
       "    </tr>\n",
       "  </tbody>\n",
       "</table>\n",
       "</div>"
      ],
      "text/plain": [
       "   quantity  price               name\n",
       "0      2413   2.11     Arcane Assault\n",
       "1      2420   2.30     Arcane Censure\n",
       "2      6138   2.23  Arm the Rebellion\n",
       "3      5277   2.20  Avernus' Blessing\n",
       "4      5437   2.14             Bellow"
      ]
     },
     "execution_count": 4,
     "metadata": {},
     "output_type": "execute_result"
    }
   ],
   "source": [
    "market = pd.read_csv(\"data/market.csv\")\n",
    "print(len(market), \"market listings\")\n",
    "market.head()"
   ]
  },
  {
   "cell_type": "code",
   "execution_count": 5,
   "metadata": {},
   "outputs": [
    {
     "name": "stdout",
     "output_type": "stream",
     "text": [
      "237 market listings with info\n"
     ]
    },
    {
     "data": {
      "text/html": [
       "<div>\n",
       "<style scoped>\n",
       "    .dataframe tbody tr th:only-of-type {\n",
       "        vertical-align: middle;\n",
       "    }\n",
       "\n",
       "    .dataframe tbody tr th {\n",
       "        vertical-align: top;\n",
       "    }\n",
       "\n",
       "    .dataframe thead th {\n",
       "        text-align: right;\n",
       "    }\n",
       "</style>\n",
       "<table border=\"1\" class=\"dataframe\">\n",
       "  <thead>\n",
       "    <tr style=\"text-align: right;\">\n",
       "      <th></th>\n",
       "      <th>name</th>\n",
       "      <th>price</th>\n",
       "      <th>rarity</th>\n",
       "      <th>type</th>\n",
       "    </tr>\n",
       "  </thead>\n",
       "  <tbody>\n",
       "    <tr>\n",
       "      <th>0</th>\n",
       "      <td>Arcane Assault</td>\n",
       "      <td>2.11</td>\n",
       "      <td>Common</td>\n",
       "      <td>Spell</td>\n",
       "    </tr>\n",
       "    <tr>\n",
       "      <th>1</th>\n",
       "      <td>Arcane Censure</td>\n",
       "      <td>2.30</td>\n",
       "      <td>Common</td>\n",
       "      <td>Spell</td>\n",
       "    </tr>\n",
       "    <tr>\n",
       "      <th>2</th>\n",
       "      <td>Arm the Rebellion</td>\n",
       "      <td>2.23</td>\n",
       "      <td>Common</td>\n",
       "      <td>Spell</td>\n",
       "    </tr>\n",
       "    <tr>\n",
       "      <th>3</th>\n",
       "      <td>Avernus' Blessing</td>\n",
       "      <td>2.20</td>\n",
       "      <td>Common</td>\n",
       "      <td>Spell</td>\n",
       "    </tr>\n",
       "    <tr>\n",
       "      <th>4</th>\n",
       "      <td>Bellow</td>\n",
       "      <td>2.14</td>\n",
       "      <td>Common</td>\n",
       "      <td>Spell</td>\n",
       "    </tr>\n",
       "  </tbody>\n",
       "</table>\n",
       "</div>"
      ],
      "text/plain": [
       "                name  price  rarity   type\n",
       "0     Arcane Assault   2.11  Common  Spell\n",
       "1     Arcane Censure   2.30  Common  Spell\n",
       "2  Arm the Rebellion   2.23  Common  Spell\n",
       "3  Avernus' Blessing   2.20  Common  Spell\n",
       "4             Bellow   2.14  Common  Spell"
      ]
     },
     "execution_count": 5,
     "metadata": {},
     "output_type": "execute_result"
    }
   ],
   "source": [
    "market_rarity = (market\n",
    "                 .merge(all_cards, how=\"left\", on=\"name\") # Not every card has a market listing\n",
    "                 [[\"name\", \"price\", \"rarity\", \"type\"]])\n",
    "print(len(market_rarity), \"market listings with info\")\n",
    "market_rarity.head()"
   ]
  },
  {
   "cell_type": "markdown",
   "metadata": {},
   "source": [
    "### My Boosters\n",
    "\n",
    "Unfortunately I didn't write down the cards I received from the boosters so have to reconstruct them from my market history."
   ]
  },
  {
   "cell_type": "code",
   "execution_count": 6,
   "metadata": {},
   "outputs": [
    {
     "name": "stdout",
     "output_type": "stream",
     "text": [
      "97 unique cards\n",
      "182 cards sold\n"
     ]
    },
    {
     "data": {
      "text/html": [
       "<div>\n",
       "<style scoped>\n",
       "    .dataframe tbody tr th:only-of-type {\n",
       "        vertical-align: middle;\n",
       "    }\n",
       "\n",
       "    .dataframe tbody tr th {\n",
       "        vertical-align: top;\n",
       "    }\n",
       "\n",
       "    .dataframe thead th {\n",
       "        text-align: right;\n",
       "    }\n",
       "</style>\n",
       "<table border=\"1\" class=\"dataframe\">\n",
       "  <thead>\n",
       "    <tr style=\"text-align: right;\">\n",
       "      <th></th>\n",
       "      <th>price</th>\n",
       "      <th>count</th>\n",
       "    </tr>\n",
       "    <tr>\n",
       "      <th>name</th>\n",
       "      <th></th>\n",
       "      <th></th>\n",
       "    </tr>\n",
       "  </thead>\n",
       "  <tbody>\n",
       "    <tr>\n",
       "      <th>Annihilation</th>\n",
       "      <td>403.39</td>\n",
       "      <td>1.0</td>\n",
       "    </tr>\n",
       "    <tr>\n",
       "      <th>Arcane Censure</th>\n",
       "      <td>1.67</td>\n",
       "      <td>1.0</td>\n",
       "    </tr>\n",
       "    <tr>\n",
       "      <th>Arm the Rebellion</th>\n",
       "      <td>1.75</td>\n",
       "      <td>5.0</td>\n",
       "    </tr>\n",
       "    <tr>\n",
       "      <th>Assassin's Apprentice</th>\n",
       "      <td>1.66</td>\n",
       "      <td>2.0</td>\n",
       "    </tr>\n",
       "    <tr>\n",
       "      <th>Assassin's Veil</th>\n",
       "      <td>1.73</td>\n",
       "      <td>1.0</td>\n",
       "    </tr>\n",
       "  </tbody>\n",
       "</table>\n",
       "</div>"
      ],
      "text/plain": [
       "                        price  count\n",
       "name                                \n",
       "Annihilation           403.39    1.0\n",
       "Arcane Censure           1.67    1.0\n",
       "Arm the Rebellion        1.75    5.0\n",
       "Assassin's Apprentice    1.66    2.0\n",
       "Assassin's Veil          1.73    1.0"
      ]
     },
     "execution_count": 6,
     "metadata": {},
     "output_type": "execute_result"
    }
   ],
   "source": [
    "my_sales = (pd.read_csv(\"data/my_cards.csv\")\n",
    "            .assign(count=1)\n",
    "            .groupby(\"name\")\n",
    "            .agg({\"price\": \"mean\",\n",
    "                  \"count\": \"count\"})\n",
    "            .assign(count=lambda df: df[\"count\"]/2))\n",
    "print(len(my_sales), \"unique cards\") \n",
    "print(int(my_sales[\"count\"].sum()), \"cards sold\")\n",
    "my_sales.head()"
   ]
  },
  {
   "cell_type": "markdown",
   "metadata": {},
   "source": [
    "These prices are for 2018/12/09 which is a day before I took the market snapshot, while the individual prices could be different, what I care about is the price distribution within the boosters and the market."
   ]
  },
  {
   "cell_type": "markdown",
   "metadata": {},
   "source": [
    "Valve provides 2 starter sets with each purchase of Artifact which I'll need to remove to isolate the Booster cards"
   ]
  },
  {
   "cell_type": "code",
   "execution_count": 7,
   "metadata": {},
   "outputs": [
    {
     "data": {
      "text/html": [
       "<div>\n",
       "<style scoped>\n",
       "    .dataframe tbody tr th:only-of-type {\n",
       "        vertical-align: middle;\n",
       "    }\n",
       "\n",
       "    .dataframe tbody tr th {\n",
       "        vertical-align: top;\n",
       "    }\n",
       "\n",
       "    .dataframe thead th {\n",
       "        text-align: right;\n",
       "    }\n",
       "</style>\n",
       "<table border=\"1\" class=\"dataframe\">\n",
       "  <thead>\n",
       "    <tr style=\"text-align: right;\">\n",
       "      <th></th>\n",
       "      <th>name</th>\n",
       "      <th>quantity</th>\n",
       "    </tr>\n",
       "  </thead>\n",
       "  <tbody>\n",
       "    <tr>\n",
       "      <th>0</th>\n",
       "      <td>Battlefield Control</td>\n",
       "      <td>3</td>\n",
       "    </tr>\n",
       "    <tr>\n",
       "      <th>1</th>\n",
       "      <td>Ventriloquy</td>\n",
       "      <td>2</td>\n",
       "    </tr>\n",
       "    <tr>\n",
       "      <th>2</th>\n",
       "      <td>Grazing Shot</td>\n",
       "      <td>2</td>\n",
       "    </tr>\n",
       "    <tr>\n",
       "      <th>3</th>\n",
       "      <td>Trebuchets</td>\n",
       "      <td>2</td>\n",
       "    </tr>\n",
       "    <tr>\n",
       "      <th>4</th>\n",
       "      <td>Lightning Strike</td>\n",
       "      <td>2</td>\n",
       "    </tr>\n",
       "  </tbody>\n",
       "</table>\n",
       "</div>"
      ],
      "text/plain": [
       "                  name  quantity\n",
       "0  Battlefield Control         3\n",
       "1          Ventriloquy         2\n",
       "2         Grazing Shot         2\n",
       "3           Trebuchets         2\n",
       "4     Lightning Strike         2"
      ]
     },
     "execution_count": 7,
     "metadata": {},
     "output_type": "execute_result"
    }
   ],
   "source": [
    "blue_black = pd.read_csv(\"data/blue_black.csv\")\n",
    "red_green = pd.read_csv(\"data/red_green.csv\")\n",
    "starter_sets = (blue_black\n",
    "                .append(red_green))\n",
    "starter_sets.head()"
   ]
  },
  {
   "cell_type": "code",
   "execution_count": 8,
   "metadata": {},
   "outputs": [
    {
     "name": "stdout",
     "output_type": "stream",
     "text": [
      "120 booster cards\n"
     ]
    },
    {
     "data": {
      "text/html": [
       "<div>\n",
       "<style scoped>\n",
       "    .dataframe tbody tr th:only-of-type {\n",
       "        vertical-align: middle;\n",
       "    }\n",
       "\n",
       "    .dataframe tbody tr th {\n",
       "        vertical-align: top;\n",
       "    }\n",
       "\n",
       "    .dataframe thead th {\n",
       "        text-align: right;\n",
       "    }\n",
       "</style>\n",
       "<table border=\"1\" class=\"dataframe\">\n",
       "  <thead>\n",
       "    <tr style=\"text-align: right;\">\n",
       "      <th></th>\n",
       "      <th>name</th>\n",
       "      <th>price</th>\n",
       "      <th>quantity</th>\n",
       "      <th>type</th>\n",
       "      <th>rarity</th>\n",
       "    </tr>\n",
       "  </thead>\n",
       "  <tbody>\n",
       "    <tr>\n",
       "      <th>0</th>\n",
       "      <td>Annihilation</td>\n",
       "      <td>403.39</td>\n",
       "      <td>1.0</td>\n",
       "      <td>Spell</td>\n",
       "      <td>Rare</td>\n",
       "    </tr>\n",
       "    <tr>\n",
       "      <th>1</th>\n",
       "      <td>Arcane Censure</td>\n",
       "      <td>1.67</td>\n",
       "      <td>1.0</td>\n",
       "      <td>Spell</td>\n",
       "      <td>Common</td>\n",
       "    </tr>\n",
       "    <tr>\n",
       "      <th>2</th>\n",
       "      <td>Arm the Rebellion</td>\n",
       "      <td>1.75</td>\n",
       "      <td>3.0</td>\n",
       "      <td>Spell</td>\n",
       "      <td>Common</td>\n",
       "    </tr>\n",
       "    <tr>\n",
       "      <th>3</th>\n",
       "      <td>Assassin's Veil</td>\n",
       "      <td>1.73</td>\n",
       "      <td>1.0</td>\n",
       "      <td>Item</td>\n",
       "      <td>Uncommon</td>\n",
       "    </tr>\n",
       "    <tr>\n",
       "      <th>4</th>\n",
       "      <td>Avernus' Blessing</td>\n",
       "      <td>1.85</td>\n",
       "      <td>3.0</td>\n",
       "      <td>Spell</td>\n",
       "      <td>Common</td>\n",
       "    </tr>\n",
       "  </tbody>\n",
       "</table>\n",
       "</div>"
      ],
      "text/plain": [
       "                name   price  quantity   type    rarity\n",
       "0       Annihilation  403.39       1.0  Spell      Rare\n",
       "1     Arcane Censure    1.67       1.0  Spell    Common\n",
       "2  Arm the Rebellion    1.75       3.0  Spell    Common\n",
       "3    Assassin's Veil    1.73       1.0   Item  Uncommon\n",
       "4  Avernus' Blessing    1.85       3.0  Spell    Common"
      ]
     },
     "execution_count": 8,
     "metadata": {},
     "output_type": "execute_result"
    }
   ],
   "source": [
    "my_boosters = (my_sales\n",
    "               .merge(starter_sets, on=\"name\", how=\"outer\")\n",
    "               .fillna(0)\n",
    "               .assign(additional=lambda df: df[\"count\"] - df[\"quantity\"])\n",
    "               .loc[lambda df: df[\"additional\"] > 0]\n",
    "               [[\"name\", \"price\", \"additional\"]]\n",
    "               .rename(columns={\"additional\": \"quantity\"})\n",
    "               .merge(all_cards[[\"name\", \"type\", \"rarity\"]], on=\"name\"))\n",
    "\n",
    "print(int(my_boosters[\"quantity\"].sum()), \"booster cards\")\n",
    "my_boosters.head()"
   ]
  },
  {
   "cell_type": "code",
   "execution_count": 9,
   "metadata": {},
   "outputs": [
    {
     "name": "stdout",
     "output_type": "stream",
     "text": [
      "Total price of my 10 Boosters, 1443.34 INR\n"
     ]
    }
   ],
   "source": [
    "my_price = sum(my_boosters[\"price\"] * my_boosters[\"quantity\"])\n",
    "print(\"Total price of my 10 Boosters, {} INR\".format(my_price))"
   ]
  },
  {
   "cell_type": "markdown",
   "metadata": {},
   "source": [
    "## Booster Distribution"
   ]
  },
  {
   "cell_type": "markdown",
   "metadata": {},
   "source": [
    "Each Booster pack contains 12 cards\n",
    "* 1 Rare, 3 Uncommon, 8 Common Cards\n",
    "* Common, then Uncommon cards have a 5% chance of upgrading\n",
    "* 1 Card will be a Hero\n",
    "* 2 Cards will be Items"
   ]
  },
  {
   "cell_type": "markdown",
   "metadata": {},
   "source": [
    "### Card Key\n",
    "\n",
    "For efficient random sampling i'm assigning a unique prime to every card attribute that I care about, here that's `rarity` and `type`"
   ]
  },
  {
   "cell_type": "code",
   "execution_count": 10,
   "metadata": {},
   "outputs": [
    {
     "data": {
      "text/html": [
       "<div>\n",
       "<style scoped>\n",
       "    .dataframe tbody tr th:only-of-type {\n",
       "        vertical-align: middle;\n",
       "    }\n",
       "\n",
       "    .dataframe tbody tr th {\n",
       "        vertical-align: top;\n",
       "    }\n",
       "\n",
       "    .dataframe thead th {\n",
       "        text-align: right;\n",
       "    }\n",
       "</style>\n",
       "<table border=\"1\" class=\"dataframe\">\n",
       "  <thead>\n",
       "    <tr style=\"text-align: right;\">\n",
       "      <th></th>\n",
       "      <th>rarity_key</th>\n",
       "      <th>rarity_value</th>\n",
       "      <th>type_key</th>\n",
       "      <th>type_value</th>\n",
       "    </tr>\n",
       "    <tr>\n",
       "      <th>combo_key</th>\n",
       "      <th></th>\n",
       "      <th></th>\n",
       "      <th></th>\n",
       "      <th></th>\n",
       "    </tr>\n",
       "  </thead>\n",
       "  <tbody>\n",
       "    <tr>\n",
       "      <th>5</th>\n",
       "      <td>1</td>\n",
       "      <td>common</td>\n",
       "      <td>5</td>\n",
       "      <td>other</td>\n",
       "    </tr>\n",
       "    <tr>\n",
       "      <th>7</th>\n",
       "      <td>1</td>\n",
       "      <td>common</td>\n",
       "      <td>7</td>\n",
       "      <td>item</td>\n",
       "    </tr>\n",
       "    <tr>\n",
       "      <th>11</th>\n",
       "      <td>1</td>\n",
       "      <td>common</td>\n",
       "      <td>11</td>\n",
       "      <td>hero</td>\n",
       "    </tr>\n",
       "    <tr>\n",
       "      <th>10</th>\n",
       "      <td>2</td>\n",
       "      <td>uncommon</td>\n",
       "      <td>5</td>\n",
       "      <td>other</td>\n",
       "    </tr>\n",
       "    <tr>\n",
       "      <th>14</th>\n",
       "      <td>2</td>\n",
       "      <td>uncommon</td>\n",
       "      <td>7</td>\n",
       "      <td>item</td>\n",
       "    </tr>\n",
       "    <tr>\n",
       "      <th>22</th>\n",
       "      <td>2</td>\n",
       "      <td>uncommon</td>\n",
       "      <td>11</td>\n",
       "      <td>hero</td>\n",
       "    </tr>\n",
       "    <tr>\n",
       "      <th>15</th>\n",
       "      <td>3</td>\n",
       "      <td>rare</td>\n",
       "      <td>5</td>\n",
       "      <td>other</td>\n",
       "    </tr>\n",
       "    <tr>\n",
       "      <th>21</th>\n",
       "      <td>3</td>\n",
       "      <td>rare</td>\n",
       "      <td>7</td>\n",
       "      <td>item</td>\n",
       "    </tr>\n",
       "    <tr>\n",
       "      <th>33</th>\n",
       "      <td>3</td>\n",
       "      <td>rare</td>\n",
       "      <td>11</td>\n",
       "      <td>hero</td>\n",
       "    </tr>\n",
       "  </tbody>\n",
       "</table>\n",
       "</div>"
      ],
      "text/plain": [
       "           rarity_key rarity_value  type_key type_value\n",
       "combo_key                                              \n",
       "5                   1       common         5      other\n",
       "7                   1       common         7       item\n",
       "11                  1       common        11       hero\n",
       "10                  2     uncommon         5      other\n",
       "14                  2     uncommon         7       item\n",
       "22                  2     uncommon        11       hero\n",
       "15                  3         rare         5      other\n",
       "21                  3         rare         7       item\n",
       "33                  3         rare        11       hero"
      ]
     },
     "execution_count": 10,
     "metadata": {},
     "output_type": "execute_result"
    }
   ],
   "source": [
    "rarity_key = {\"common\": 1, \"uncommon\": 2, \"rare\": 3}\n",
    "type_key = {\"other\": 5, \"item\": 7, \"hero\": 11}\n",
    "\n",
    "acc = []\n",
    "for (rv, rk) in rarity_key.items():\n",
    "    for (tv, tk) in type_key.items():\n",
    "        acc.append((rk, rv, tk, tv, rk*tk))\n",
    "\n",
    "card_keys = (pd.DataFrame(acc, columns=[\"rarity_key\", \"rarity_value\", \"type_key\", \"type_value\", \"combo_key\"])\n",
    "             .set_index(\"combo_key\"))\n",
    "card_keys"
   ]
  },
  {
   "cell_type": "markdown",
   "metadata": {},
   "source": [
    "### Sampled Boosters"
   ]
  },
  {
   "cell_type": "code",
   "execution_count": 11,
   "metadata": {},
   "outputs": [
    {
     "data": {
      "text/plain": [
       "(10000, 10, 12)"
      ]
     },
     "execution_count": 11,
     "metadata": {},
     "output_type": "execute_result"
    }
   ],
   "source": [
    "NUM_BOOSTERS = 10\n",
    "NUM_SAMPLES = 10000\n",
    "\n",
    "rarity_pack = 1 * [rarity_key[\"rare\"]] +\\\n",
    "              3 * [rarity_key[\"uncommon\"]] +\\\n",
    "              8 * [rarity_key[\"common\"]]\n",
    "\n",
    "rarity_samples = np.tile(rarity_pack, (NUM_SAMPLES, NUM_BOOSTERS, 1))\n",
    "\n",
    "common_upgrade = (stats.binom.rvs(n=1, p=0.05, size=(NUM_SAMPLES, NUM_BOOSTERS, 8)) +\\\n",
    "                  stats.binom.rvs(n=1, p=0.05, size=(NUM_SAMPLES, NUM_BOOSTERS, 8)))\n",
    "uncommon_upgrade = stats.binom.rvs(n=1, p=0.05, size=(NUM_SAMPLES, NUM_BOOSTERS, 3))\n",
    "rare_upgrade = np.zeros((NUM_SAMPLES, NUM_BOOSTERS, 1))\n",
    "upgrade = np.concatenate([rare_upgrade, uncommon_upgrade, common_upgrade], axis=2)\n",
    "\n",
    "rarity = rarity_samples + upgrade.astype(int)\n",
    "\n",
    "type_pack = 1 * [type_key[\"hero\"]] +\\\n",
    "            2 * [type_key[\"item\"]] +\\\n",
    "            9 * [type_key[\"other\"]]\n",
    "\n",
    "type_samples = np.tile(type_pack, (NUM_SAMPLES, NUM_BOOSTERS, 1))\n",
    "\n",
    "for sample in type_samples:\n",
    "    for pack in sample:\n",
    "        np.random.shuffle(pack)\n",
    "\n",
    "cards = type_samples * rarity\n",
    "cards.shape"
   ]
  },
  {
   "cell_type": "code",
   "execution_count": 12,
   "metadata": {},
   "outputs": [
    {
     "data": {
      "text/plain": [
       "(10000, 9)"
      ]
     },
     "execution_count": 12,
     "metadata": {},
     "output_type": "execute_result"
    }
   ],
   "source": [
    "acc = []\n",
    "for sample in cards.reshape(NUM_SAMPLES, -1):\n",
    "    acc.append(np.bincount(sample, minlength=34)[card_keys.index])\n",
    "samples = np.vstack(acc)\n",
    "samples.shape"
   ]
  },
  {
   "cell_type": "markdown",
   "metadata": {},
   "source": [
    "### Card Distribution"
   ]
  },
  {
   "cell_type": "code",
   "execution_count": 13,
   "metadata": {},
   "outputs": [
    {
     "data": {
      "text/html": [
       "<div>\n",
       "<style scoped>\n",
       "    .dataframe tbody tr th:only-of-type {\n",
       "        vertical-align: middle;\n",
       "    }\n",
       "\n",
       "    .dataframe tbody tr th {\n",
       "        vertical-align: top;\n",
       "    }\n",
       "\n",
       "    .dataframe thead th {\n",
       "        text-align: right;\n",
       "    }\n",
       "</style>\n",
       "<table border=\"1\" class=\"dataframe\">\n",
       "  <thead>\n",
       "    <tr style=\"text-align: right;\">\n",
       "      <th></th>\n",
       "      <th>lower</th>\n",
       "      <th>upper</th>\n",
       "      <th>mean</th>\n",
       "    </tr>\n",
       "    <tr>\n",
       "      <th>combo_key</th>\n",
       "      <th></th>\n",
       "      <th></th>\n",
       "      <th></th>\n",
       "    </tr>\n",
       "  </thead>\n",
       "  <tbody>\n",
       "    <tr>\n",
       "      <th>5</th>\n",
       "      <td>49</td>\n",
       "      <td>59</td>\n",
       "      <td>54</td>\n",
       "    </tr>\n",
       "    <tr>\n",
       "      <th>7</th>\n",
       "      <td>9</td>\n",
       "      <td>15</td>\n",
       "      <td>12</td>\n",
       "    </tr>\n",
       "    <tr>\n",
       "      <th>11</th>\n",
       "      <td>4</td>\n",
       "      <td>8</td>\n",
       "      <td>6</td>\n",
       "    </tr>\n",
       "    <tr>\n",
       "      <th>10</th>\n",
       "      <td>22</td>\n",
       "      <td>32</td>\n",
       "      <td>27</td>\n",
       "    </tr>\n",
       "    <tr>\n",
       "      <th>14</th>\n",
       "      <td>3</td>\n",
       "      <td>9</td>\n",
       "      <td>6</td>\n",
       "    </tr>\n",
       "    <tr>\n",
       "      <th>22</th>\n",
       "      <td>1</td>\n",
       "      <td>5</td>\n",
       "      <td>3</td>\n",
       "    </tr>\n",
       "    <tr>\n",
       "      <th>15</th>\n",
       "      <td>6</td>\n",
       "      <td>12</td>\n",
       "      <td>9</td>\n",
       "    </tr>\n",
       "    <tr>\n",
       "      <th>21</th>\n",
       "      <td>0</td>\n",
       "      <td>4</td>\n",
       "      <td>2</td>\n",
       "    </tr>\n",
       "    <tr>\n",
       "      <th>33</th>\n",
       "      <td>0</td>\n",
       "      <td>3</td>\n",
       "      <td>1</td>\n",
       "    </tr>\n",
       "  </tbody>\n",
       "</table>\n",
       "</div>"
      ],
      "text/plain": [
       "           lower  upper  mean\n",
       "combo_key                    \n",
       "5             49     59    54\n",
       "7              9     15    12\n",
       "11             4      8     6\n",
       "10            22     32    27\n",
       "14             3      9     6\n",
       "22             1      5     3\n",
       "15             6     12     9\n",
       "21             0      4     2\n",
       "33             0      3     1"
      ]
     },
     "execution_count": 13,
     "metadata": {},
     "output_type": "execute_result"
    }
   ],
   "source": [
    "booster_distribution = (pd.DataFrame(np.vstack([np.percentile(samples, [5.5, 94.5], axis=0),\n",
    "                                                np.mean(samples, axis=0)]).T,\n",
    "                                     columns=[\"lower\", \"upper\", \"mean\"],\n",
    "                                     index=card_keys.index)\n",
    "                        .round()\n",
    "                        .astype(int))\n",
    "booster_distribution"
   ]
  },
  {
   "cell_type": "code",
   "execution_count": 14,
   "metadata": {},
   "outputs": [
    {
     "data": {
      "image/png": "[encoded data removed]",
      "text/plain": [
       "<Figure size 972x648 with 1 Axes>"
      ]
     },
     "metadata": {},
     "output_type": "display_data"
    }
   ],
   "source": [
    "data = (booster_distribution\n",
    "        .join(card_keys)\n",
    "        .assign(combo_str=lambda df: df[\"rarity_value\"] + \"\\n\" + df[\"type_value\"]))\n",
    "\n",
    "hpdi = np.abs(data[\"mean\"].values.reshape(-1, 1) - data[[\"lower\", \"upper\"]].values).T\n",
    "\n",
    "f, ax = plt.subplots(1, 1)\n",
    "f.set_size_inches(13.5, 9)\n",
    "sns.barplot(ax=ax, data=data, x=\"combo_str\", y=\"mean\")\n",
    "ax.errorbar(data[\"combo_str\"], data[\"mean\"], fmt=\"o\", yerr=hpdi)\n",
    "\n",
    "ax.set_title(\"Card Distribution for {} samples of 10 boosters\\n\".format(NUM_SAMPLES, NUM_BOOSTERS))\n",
    "ax.set_ylabel(\"number of cards\")\n",
    "ax.set_xlabel(\"\");"
   ]
  },
  {
   "cell_type": "markdown",
   "metadata": {},
   "source": [
    "## Expected Prices\n",
    "\n",
    "Using the booster distribution, I can build the expected price distribution based on the prices of each `rarity-type` on the market"
   ]
  },
  {
   "cell_type": "code",
   "execution_count": 15,
   "metadata": {},
   "outputs": [
    {
     "data": {
      "text/html": [
       "<div>\n",
       "<style scoped>\n",
       "    .dataframe tbody tr th:only-of-type {\n",
       "        vertical-align: middle;\n",
       "    }\n",
       "\n",
       "    .dataframe tbody tr th {\n",
       "        vertical-align: top;\n",
       "    }\n",
       "\n",
       "    .dataframe thead th {\n",
       "        text-align: right;\n",
       "    }\n",
       "</style>\n",
       "<table border=\"1\" class=\"dataframe\">\n",
       "  <thead>\n",
       "    <tr style=\"text-align: right;\">\n",
       "      <th></th>\n",
       "      <th>name</th>\n",
       "      <th>price</th>\n",
       "      <th>rarity</th>\n",
       "      <th>type</th>\n",
       "      <th>rarity_value</th>\n",
       "      <th>type_value</th>\n",
       "      <th>rarity_key</th>\n",
       "      <th>type_key</th>\n",
       "    </tr>\n",
       "    <tr>\n",
       "      <th>combo_key</th>\n",
       "      <th></th>\n",
       "      <th></th>\n",
       "      <th></th>\n",
       "      <th></th>\n",
       "      <th></th>\n",
       "      <th></th>\n",
       "      <th></th>\n",
       "      <th></th>\n",
       "    </tr>\n",
       "  </thead>\n",
       "  <tbody>\n",
       "    <tr>\n",
       "      <th>5</th>\n",
       "      <td>Arcane Assault</td>\n",
       "      <td>2.11</td>\n",
       "      <td>Common</td>\n",
       "      <td>Spell</td>\n",
       "      <td>common</td>\n",
       "      <td>other</td>\n",
       "      <td>1</td>\n",
       "      <td>5</td>\n",
       "    </tr>\n",
       "    <tr>\n",
       "      <th>5</th>\n",
       "      <td>Arcane Censure</td>\n",
       "      <td>2.30</td>\n",
       "      <td>Common</td>\n",
       "      <td>Spell</td>\n",
       "      <td>common</td>\n",
       "      <td>other</td>\n",
       "      <td>1</td>\n",
       "      <td>5</td>\n",
       "    </tr>\n",
       "    <tr>\n",
       "      <th>5</th>\n",
       "      <td>Arm the Rebellion</td>\n",
       "      <td>2.23</td>\n",
       "      <td>Common</td>\n",
       "      <td>Spell</td>\n",
       "      <td>common</td>\n",
       "      <td>other</td>\n",
       "      <td>1</td>\n",
       "      <td>5</td>\n",
       "    </tr>\n",
       "    <tr>\n",
       "      <th>5</th>\n",
       "      <td>Avernus' Blessing</td>\n",
       "      <td>2.20</td>\n",
       "      <td>Common</td>\n",
       "      <td>Spell</td>\n",
       "      <td>common</td>\n",
       "      <td>other</td>\n",
       "      <td>1</td>\n",
       "      <td>5</td>\n",
       "    </tr>\n",
       "    <tr>\n",
       "      <th>5</th>\n",
       "      <td>Bellow</td>\n",
       "      <td>2.14</td>\n",
       "      <td>Common</td>\n",
       "      <td>Spell</td>\n",
       "      <td>common</td>\n",
       "      <td>other</td>\n",
       "      <td>1</td>\n",
       "      <td>5</td>\n",
       "    </tr>\n",
       "  </tbody>\n",
       "</table>\n",
       "</div>"
      ],
      "text/plain": [
       "                        name  price  rarity   type rarity_value type_value  \\\n",
       "combo_key                                                                    \n",
       "5             Arcane Assault   2.11  Common  Spell       common      other   \n",
       "5             Arcane Censure   2.30  Common  Spell       common      other   \n",
       "5          Arm the Rebellion   2.23  Common  Spell       common      other   \n",
       "5          Avernus' Blessing   2.20  Common  Spell       common      other   \n",
       "5                     Bellow   2.14  Common  Spell       common      other   \n",
       "\n",
       "           rarity_key  type_key  \n",
       "combo_key                        \n",
       "5                   1         5  \n",
       "5                   1         5  \n",
       "5                   1         5  \n",
       "5                   1         5  \n",
       "5                   1         5  "
      ]
     },
     "execution_count": 15,
     "metadata": {},
     "output_type": "execute_result"
    }
   ],
   "source": [
    "market_prices = (market_rarity\n",
    "                 .assign(rarity_value=lambda df: df[\"rarity\"].str.lower())\n",
    "                 .assign(type_value=lambda df: df[\"type\"].str.lower())\n",
    "                 .assign(type_value=lambda df: np.where(df[\"type_value\"].isin(type_key.keys()),\n",
    "                                                        df[\"type_value\"],\n",
    "                                                        \"other\"))\n",
    "                 .merge(card_keys.reset_index(), on=[\"rarity_value\", \"type_value\"])\n",
    "                 .set_index(\"combo_key\"))\n",
    "\n",
    "market_prices.head()"
   ]
  },
  {
   "cell_type": "code",
   "execution_count": 16,
   "metadata": {},
   "outputs": [
    {
     "data": {
      "text/html": [
       "<div>\n",
       "<style scoped>\n",
       "    .dataframe tbody tr th:only-of-type {\n",
       "        vertical-align: middle;\n",
       "    }\n",
       "\n",
       "    .dataframe tbody tr th {\n",
       "        vertical-align: top;\n",
       "    }\n",
       "\n",
       "    .dataframe thead th {\n",
       "        text-align: right;\n",
       "    }\n",
       "</style>\n",
       "<table border=\"1\" class=\"dataframe\">\n",
       "  <thead>\n",
       "    <tr style=\"text-align: right;\">\n",
       "      <th></th>\n",
       "      <th>price_count</th>\n",
       "      <th>padding</th>\n",
       "    </tr>\n",
       "    <tr>\n",
       "      <th>combo_key</th>\n",
       "      <th></th>\n",
       "      <th></th>\n",
       "    </tr>\n",
       "  </thead>\n",
       "  <tbody>\n",
       "    <tr>\n",
       "      <th>5</th>\n",
       "      <td>48</td>\n",
       "      <td>4</td>\n",
       "    </tr>\n",
       "    <tr>\n",
       "      <th>7</th>\n",
       "      <td>14</td>\n",
       "      <td>38</td>\n",
       "    </tr>\n",
       "    <tr>\n",
       "      <th>11</th>\n",
       "      <td>20</td>\n",
       "      <td>32</td>\n",
       "    </tr>\n",
       "    <tr>\n",
       "      <th>10</th>\n",
       "      <td>52</td>\n",
       "      <td>0</td>\n",
       "    </tr>\n",
       "    <tr>\n",
       "      <th>14</th>\n",
       "      <td>14</td>\n",
       "      <td>38</td>\n",
       "    </tr>\n",
       "    <tr>\n",
       "      <th>22</th>\n",
       "      <td>12</td>\n",
       "      <td>40</td>\n",
       "    </tr>\n",
       "    <tr>\n",
       "      <th>15</th>\n",
       "      <td>52</td>\n",
       "      <td>0</td>\n",
       "    </tr>\n",
       "    <tr>\n",
       "      <th>21</th>\n",
       "      <td>13</td>\n",
       "      <td>39</td>\n",
       "    </tr>\n",
       "    <tr>\n",
       "      <th>33</th>\n",
       "      <td>12</td>\n",
       "      <td>40</td>\n",
       "    </tr>\n",
       "  </tbody>\n",
       "</table>\n",
       "</div>"
      ],
      "text/plain": [
       "           price_count  padding\n",
       "combo_key                      \n",
       "5                   48        4\n",
       "7                   14       38\n",
       "11                  20       32\n",
       "10                  52        0\n",
       "14                  14       38\n",
       "22                  12       40\n",
       "15                  52        0\n",
       "21                  13       39\n",
       "33                  12       40"
      ]
     },
     "execution_count": 16,
     "metadata": {},
     "output_type": "execute_result"
    }
   ],
   "source": [
    "market_stats = (market_prices\n",
    "                .groupby(\"combo_key\")\n",
    "                [[\"name\"]]\n",
    "                .count()\n",
    "                .rename(columns={\"name\": \"price_count\"})\n",
    "                .assign(padding=lambda df: df[\"price_count\"].max() - df[\"price_count\"])\n",
    "                .loc[card_keys.index])\n",
    "market_stats"
   ]
  },
  {
   "cell_type": "code",
   "execution_count": 17,
   "metadata": {},
   "outputs": [
    {
     "data": {
      "text/plain": [
       "(9, 52)"
      ]
     },
     "execution_count": 17,
     "metadata": {},
     "output_type": "execute_result"
    }
   ],
   "source": [
    "acc = []\n",
    "for idx in card_keys.index:\n",
    "    prices = market_prices.loc[idx][\"price\"].values\n",
    "    padding = market_stats.loc[idx][\"padding\"]\n",
    "    padded = np.pad(prices, (0, padding), \"constant\")\n",
    "    acc.append(padded)\n",
    "price_matrix = np.vstack(acc)\n",
    "price_matrix.shape"
   ]
  },
  {
   "cell_type": "code",
   "execution_count": 18,
   "metadata": {},
   "outputs": [
    {
     "data": {
      "text/plain": [
       "(10000,)"
      ]
     },
     "execution_count": 18,
     "metadata": {},
     "output_type": "execute_result"
    }
   ],
   "source": [
    "price_counts = market_stats.loc[card_keys.index][\"price_count\"].values\n",
    "samples_mu = samples/price_counts\n",
    "\n",
    "samples_price = []\n",
    "for sample_mu in samples_mu:\n",
    "    sample_mu = np.tile(sample_mu, (price_matrix.shape[1], 1)).T\n",
    "    sample_draw = stats.poisson.rvs(mu=sample_mu)\n",
    "    sample_price = np.sum(sample_draw * price_matrix)\n",
    "    samples_price.append(sample_price)\n",
    "samples_price = np.array(samples_price)\n",
    "samples_price.shape"
   ]
  },
  {
   "cell_type": "markdown",
   "metadata": {},
   "source": [
    "### Probability of seeing at least my price?"
   ]
  },
  {
   "cell_type": "code",
   "execution_count": 19,
   "metadata": {},
   "outputs": [
    {
     "data": {
      "text/plain": [
       "0.1969"
      ]
     },
     "execution_count": 19,
     "metadata": {},
     "output_type": "execute_result"
    }
   ],
   "source": [
    "(samples_price > my_price).sum()/len(samples_price)"
   ]
  },
  {
   "cell_type": "code",
   "execution_count": 20,
   "metadata": {},
   "outputs": [
    {
     "data": {
      "image/png": "[encoded data removed]",
      "text/plain": [
       "<Figure size 972x648 with 1 Axes>"
      ]
     },
     "metadata": {},
     "output_type": "display_data"
    }
   ],
   "source": [
    "f, ax = plt.subplots(1, 1)\n",
    "f.set_size_inches(13.5, 9)\n",
    "sns.kdeplot(samples_price)\n",
    "ax.vlines(my_price, 0, 0.001, alpha=0.2)\n",
    "ax.text(my_price, 0.0008, \" ({} INR) \".format(my_price))\n",
    "ax.set_title(\"Sample Price KDE\")\n",
    "ax.set_xlabel(\"market price (INR) for 10 boosters\");"
   ]
  },
  {
   "cell_type": "markdown",
   "metadata": {},
   "source": [
    "## Conclusion"
   ]
  },
  {
   "cell_type": "markdown",
   "metadata": {},
   "source": [
    "Although the expected price for all 10 boosters is below the price I received, my price isn't that unlikely. Valve doesn't need to change the card distribution dynamically in order for me to receive my price."
   ]
  },
  {
   "cell_type": "code",
   "execution_count": 21,
   "metadata": {},
   "outputs": [
    {
     "data": {
      "text/html": [
       "<div>\n",
       "<style scoped>\n",
       "    .dataframe tbody tr th:only-of-type {\n",
       "        vertical-align: middle;\n",
       "    }\n",
       "\n",
       "    .dataframe tbody tr th {\n",
       "        vertical-align: top;\n",
       "    }\n",
       "\n",
       "    .dataframe thead th {\n",
       "        text-align: right;\n",
       "    }\n",
       "</style>\n",
       "<table border=\"1\" class=\"dataframe\">\n",
       "  <thead>\n",
       "    <tr style=\"text-align: right;\">\n",
       "      <th></th>\n",
       "      <th>Summary</th>\n",
       "    </tr>\n",
       "  </thead>\n",
       "  <tbody>\n",
       "    <tr>\n",
       "      <th>Mean</th>\n",
       "      <td>1069.38</td>\n",
       "    </tr>\n",
       "    <tr>\n",
       "      <th>5.5%</th>\n",
       "      <td>455.37</td>\n",
       "    </tr>\n",
       "    <tr>\n",
       "      <th>94.5%</th>\n",
       "      <td>2061.33</td>\n",
       "    </tr>\n",
       "    <tr>\n",
       "      <th>break even %</th>\n",
       "      <td>17.58</td>\n",
       "    </tr>\n",
       "  </tbody>\n",
       "</table>\n",
       "</div>"
      ],
      "text/plain": [
       "              Summary\n",
       "Mean          1069.38\n",
       "5.5%           455.37\n",
       "94.5%         2061.33\n",
       "break even %    17.58"
      ]
     },
     "execution_count": 21,
     "metadata": {},
     "output_type": "execute_result"
    }
   ],
   "source": [
    "mu = samples_price.mean()\n",
    "(lb, ub) = np.percentile(samples_price, [5.5, 94.5])\n",
    "break_even = (samples_price > 1499).sum()/NUM_SAMPLES * 100\n",
    "pd.DataFrame([[mu, lb, ub, break_even]], \n",
    "             columns=[\"Mean\", \"5.5%\", \"94.5%\", \"break even %\"],\n",
    "             index=[\"Summary\"]).round(2).T"
   ]
  },
  {
   "cell_type": "markdown",
   "metadata": {},
   "source": [
    "It's not unlikely to \"break even\" especially if you consider the Starter Decks which I haven't done here."
   ]
  }
 ],
 "metadata": {
  "kernelspec": {
   "display_name": "Python 3",
   "language": "python",
   "name": "python3"
  },
  "language_info": {
   "codemirror_mode": {
    "name": "ipython",
    "version": 3
   },
   "file_extension": ".py",
   "mimetype": "text/x-python",
   "name": "python",
   "nbconvert_exporter": "python",
   "pygments_lexer": "ipython3",
   "version": "3.6.5"
  }
 },
 "nbformat": 4,
 "nbformat_minor": 2
}
