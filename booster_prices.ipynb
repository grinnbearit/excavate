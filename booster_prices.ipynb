{
 "cells": [
  {
   "cell_type": "markdown",
   "metadata": {},
   "source": [
    "# Artifact Price Analysis"
   ]
  },
  {
   "cell_type": "markdown",
   "metadata": {},
   "source": [
    "## How likely are you to break even?\n",
    "\n",
    "All prices are in INR since that's my market, this uses market prices as of 2018/12/11"
   ]
  },
  {
   "cell_type": "markdown",
   "metadata": {},
   "source": [
    "[Artifact](https://store.steampowered.com/app/583950/Artifact/) released on November 28th, it's a digital trading card game similar to Hearthstone and MtGO, unlike these games it uses a different monetisation model where boosters have to be bought (139 INR) and there's no way to _earn_ cards by playing the game. On the other hand all cards are tradeable on the steam market place for steam credit after Valve takes it's 15% cut. \n",
    "\n",
    "For the 1499 INR price you get 2 Starter Decks and 10 Unopened Boosters, I wanted to see how likely it is to _break even_ given the listed market prices and the distribution of cards in the boosters.\n",
    "\n",
    "\n",
    "(Scroll to the bottom for the answer)"
   ]
  },
  {
   "cell_type": "code",
   "execution_count": 1,
   "metadata": {},
   "outputs": [],
   "source": [
    "import numpy as np\n",
    "import pandas as pd\n",
    "import seaborn as sns\n",
    "import scipy.stats as stats\n",
    "import matplotlib.pyplot as plt"
   ]
  },
  {
   "cell_type": "code",
   "execution_count": 2,
   "metadata": {},
   "outputs": [],
   "source": [
    "sns.set()"
   ]
  },
  {
   "cell_type": "markdown",
   "metadata": {},
   "source": [
    "## Data Sets"
   ]
  },
  {
   "cell_type": "markdown",
   "metadata": {},
   "source": [
    "### All Artifact Cards\n",
    "\n",
    "card rarity from [ArtifactFire](https://www.artifactfire.com/artifact/cards)"
   ]
  },
  {
   "cell_type": "code",
   "execution_count": 3,
   "metadata": {},
   "outputs": [
    {
     "name": "stdout",
     "output_type": "stream",
     "text": [
      "303 unique cards\n"
     ]
    },
    {
     "data": {
      "text/html": [
       "<div>\n",
       "<style scoped>\n",
       "    .dataframe tbody tr th:only-of-type {\n",
       "        vertical-align: middle;\n",
       "    }\n",
       "\n",
       "    .dataframe tbody tr th {\n",
       "        vertical-align: top;\n",
       "    }\n",
       "\n",
       "    .dataframe thead th {\n",
       "        text-align: right;\n",
       "    }\n",
       "</style>\n",
       "<table border=\"1\" class=\"dataframe\">\n",
       "  <thead>\n",
       "    <tr style=\"text-align: right;\">\n",
       "      <th></th>\n",
       "      <th>name</th>\n",
       "      <th>rarity</th>\n",
       "      <th>category</th>\n",
       "    </tr>\n",
       "  </thead>\n",
       "  <tbody>\n",
       "    <tr>\n",
       "      <th>0</th>\n",
       "      <td>Abaddon</td>\n",
       "      <td>Uncommon</td>\n",
       "      <td>Hero</td>\n",
       "    </tr>\n",
       "    <tr>\n",
       "      <th>1</th>\n",
       "      <td>Act of Defiance</td>\n",
       "      <td>Uncommon</td>\n",
       "      <td>Spell</td>\n",
       "    </tr>\n",
       "    <tr>\n",
       "      <th>2</th>\n",
       "      <td>Aghanim's Sanctum</td>\n",
       "      <td>Uncommon</td>\n",
       "      <td>Improvement</td>\n",
       "    </tr>\n",
       "    <tr>\n",
       "      <th>3</th>\n",
       "      <td>Allseeing One's Favor</td>\n",
       "      <td>Rare</td>\n",
       "      <td>Spell</td>\n",
       "    </tr>\n",
       "    <tr>\n",
       "      <th>4</th>\n",
       "      <td>Altar of the Mad Moon</td>\n",
       "      <td>Uncommon</td>\n",
       "      <td>Improvement</td>\n",
       "    </tr>\n",
       "  </tbody>\n",
       "</table>\n",
       "</div>"
      ],
      "text/plain": [
       "                    name    rarity     category\n",
       "0                Abaddon  Uncommon         Hero\n",
       "1        Act of Defiance  Uncommon        Spell\n",
       "2      Aghanim's Sanctum  Uncommon  Improvement\n",
       "3  Allseeing One's Favor      Rare        Spell\n",
       "4  Altar of the Mad Moon  Uncommon  Improvement"
      ]
     },
     "execution_count": 3,
     "metadata": {},
     "output_type": "execute_result"
    }
   ],
   "source": [
    "all_cards = (pd.read_csv(\"data/all_cards.csv\")\n",
    "             [[\"name\", \"rarity\", \"type\"]]\n",
    "             .rename(columns={\"type\": \"category\"})) # since type is a recognised function\n",
    "print(len(all_cards), \"unique cards\")\n",
    "all_cards.head()"
   ]
  },
  {
   "cell_type": "markdown",
   "metadata": {},
   "source": [
    "### Market Listings (2018/12/11)"
   ]
  },
  {
   "cell_type": "code",
   "execution_count": 4,
   "metadata": {},
   "outputs": [
    {
     "name": "stdout",
     "output_type": "stream",
     "text": [
      "237 market listings\n"
     ]
    },
    {
     "data": {
      "text/html": [
       "<div>\n",
       "<style scoped>\n",
       "    .dataframe tbody tr th:only-of-type {\n",
       "        vertical-align: middle;\n",
       "    }\n",
       "\n",
       "    .dataframe tbody tr th {\n",
       "        vertical-align: top;\n",
       "    }\n",
       "\n",
       "    .dataframe thead th {\n",
       "        text-align: right;\n",
       "    }\n",
       "</style>\n",
       "<table border=\"1\" class=\"dataframe\">\n",
       "  <thead>\n",
       "    <tr style=\"text-align: right;\">\n",
       "      <th></th>\n",
       "      <th>name</th>\n",
       "      <th>price</th>\n",
       "    </tr>\n",
       "  </thead>\n",
       "  <tbody>\n",
       "    <tr>\n",
       "      <th>0</th>\n",
       "      <td>Arcane Assault</td>\n",
       "      <td>2.11</td>\n",
       "    </tr>\n",
       "    <tr>\n",
       "      <th>1</th>\n",
       "      <td>Arcane Censure</td>\n",
       "      <td>2.30</td>\n",
       "    </tr>\n",
       "    <tr>\n",
       "      <th>2</th>\n",
       "      <td>Arm the Rebellion</td>\n",
       "      <td>2.23</td>\n",
       "    </tr>\n",
       "    <tr>\n",
       "      <th>3</th>\n",
       "      <td>Avernus' Blessing</td>\n",
       "      <td>2.20</td>\n",
       "    </tr>\n",
       "    <tr>\n",
       "      <th>4</th>\n",
       "      <td>Bellow</td>\n",
       "      <td>2.14</td>\n",
       "    </tr>\n",
       "  </tbody>\n",
       "</table>\n",
       "</div>"
      ],
      "text/plain": [
       "                name  price\n",
       "0     Arcane Assault   2.11\n",
       "1     Arcane Censure   2.30\n",
       "2  Arm the Rebellion   2.23\n",
       "3  Avernus' Blessing   2.20\n",
       "4             Bellow   2.14"
      ]
     },
     "execution_count": 4,
     "metadata": {},
     "output_type": "execute_result"
    }
   ],
   "source": [
    "market = (pd.read_csv(\"data/market.csv\")\n",
    "          [[\"name\", \"price\"]])\n",
    "print(len(market), \"market listings\")\n",
    "market.head()"
   ]
  },
  {
   "cell_type": "markdown",
   "metadata": {},
   "source": [
    "### Starter Listings"
   ]
  },
  {
   "cell_type": "markdown",
   "metadata": {},
   "source": [
    "Not all starter cards are listable but some are, since I sold all cards I can isolate the starter cards that can be sold. Unfortunately, since I didn't write this down, I'll have to reconstruct my boosters from my market listings."
   ]
  },
  {
   "cell_type": "code",
   "execution_count": 5,
   "metadata": {},
   "outputs": [
    {
     "name": "stdout",
     "output_type": "stream",
     "text": [
      "97 unique cards\n",
      "182 cards sold\n"
     ]
    },
    {
     "data": {
      "text/html": [
       "<div>\n",
       "<style scoped>\n",
       "    .dataframe tbody tr th:only-of-type {\n",
       "        vertical-align: middle;\n",
       "    }\n",
       "\n",
       "    .dataframe tbody tr th {\n",
       "        vertical-align: top;\n",
       "    }\n",
       "\n",
       "    .dataframe thead th {\n",
       "        text-align: right;\n",
       "    }\n",
       "</style>\n",
       "<table border=\"1\" class=\"dataframe\">\n",
       "  <thead>\n",
       "    <tr style=\"text-align: right;\">\n",
       "      <th></th>\n",
       "      <th>name</th>\n",
       "      <th>count</th>\n",
       "    </tr>\n",
       "  </thead>\n",
       "  <tbody>\n",
       "    <tr>\n",
       "      <th>0</th>\n",
       "      <td>Annihilation</td>\n",
       "      <td>1</td>\n",
       "    </tr>\n",
       "    <tr>\n",
       "      <th>1</th>\n",
       "      <td>Arcane Censure</td>\n",
       "      <td>1</td>\n",
       "    </tr>\n",
       "    <tr>\n",
       "      <th>2</th>\n",
       "      <td>Arm the Rebellion</td>\n",
       "      <td>5</td>\n",
       "    </tr>\n",
       "    <tr>\n",
       "      <th>3</th>\n",
       "      <td>Assassin's Apprentice</td>\n",
       "      <td>2</td>\n",
       "    </tr>\n",
       "    <tr>\n",
       "      <th>4</th>\n",
       "      <td>Assassin's Veil</td>\n",
       "      <td>1</td>\n",
       "    </tr>\n",
       "  </tbody>\n",
       "</table>\n",
       "</div>"
      ],
      "text/plain": [
       "                    name  count\n",
       "0           Annihilation      1\n",
       "1         Arcane Censure      1\n",
       "2      Arm the Rebellion      5\n",
       "3  Assassin's Apprentice      2\n",
       "4        Assassin's Veil      1"
      ]
     },
     "execution_count": 5,
     "metadata": {},
     "output_type": "execute_result"
    }
   ],
   "source": [
    "my_sales = (pd.read_csv(\"data/my_cards.csv\")\n",
    "            .assign(count=1)\n",
    "            .groupby(\"name\")\n",
    "            [\"count\"]\n",
    "            .count()\n",
    "            .reset_index()\n",
    "            .assign(count=lambda df: (df[\"count\"]/2).astype(int))) # adjust for listing and sale\n",
    "print(len(my_sales), \"unique cards\") \n",
    "print(int(my_sales[\"count\"].sum()), \"cards sold\")\n",
    "my_sales.head()"
   ]
  },
  {
   "cell_type": "markdown",
   "metadata": {},
   "source": [
    "Valve provides 2 starter sets with each purchase of Artifact which I'll need to remove to isolate the Booster cards"
   ]
  },
  {
   "cell_type": "code",
   "execution_count": 6,
   "metadata": {},
   "outputs": [
    {
     "data": {
      "text/html": [
       "<div>\n",
       "<style scoped>\n",
       "    .dataframe tbody tr th:only-of-type {\n",
       "        vertical-align: middle;\n",
       "    }\n",
       "\n",
       "    .dataframe tbody tr th {\n",
       "        vertical-align: top;\n",
       "    }\n",
       "\n",
       "    .dataframe thead th {\n",
       "        text-align: right;\n",
       "    }\n",
       "</style>\n",
       "<table border=\"1\" class=\"dataframe\">\n",
       "  <thead>\n",
       "    <tr style=\"text-align: right;\">\n",
       "      <th></th>\n",
       "      <th>name</th>\n",
       "      <th>quantity</th>\n",
       "    </tr>\n",
       "  </thead>\n",
       "  <tbody>\n",
       "    <tr>\n",
       "      <th>0</th>\n",
       "      <td>Battlefield Control</td>\n",
       "      <td>3</td>\n",
       "    </tr>\n",
       "    <tr>\n",
       "      <th>1</th>\n",
       "      <td>Ventriloquy</td>\n",
       "      <td>2</td>\n",
       "    </tr>\n",
       "    <tr>\n",
       "      <th>2</th>\n",
       "      <td>Grazing Shot</td>\n",
       "      <td>2</td>\n",
       "    </tr>\n",
       "    <tr>\n",
       "      <th>3</th>\n",
       "      <td>Trebuchets</td>\n",
       "      <td>2</td>\n",
       "    </tr>\n",
       "    <tr>\n",
       "      <th>4</th>\n",
       "      <td>Lightning Strike</td>\n",
       "      <td>2</td>\n",
       "    </tr>\n",
       "  </tbody>\n",
       "</table>\n",
       "</div>"
      ],
      "text/plain": [
       "                  name  quantity\n",
       "0  Battlefield Control         3\n",
       "1          Ventriloquy         2\n",
       "2         Grazing Shot         2\n",
       "3           Trebuchets         2\n",
       "4     Lightning Strike         2"
      ]
     },
     "execution_count": 6,
     "metadata": {},
     "output_type": "execute_result"
    }
   ],
   "source": [
    "blue_black = pd.read_csv(\"data/blue_black.csv\")\n",
    "red_green = pd.read_csv(\"data/red_green.csv\")\n",
    "starter_sets = (blue_black\n",
    "                .merge(red_green, on=\"name\", how=\"outer\")\n",
    "                .fillna(0)\n",
    "                .assign(quantity=lambda df: np.max(df[[\"quantity_x\", \"quantity_y\"]], axis=1).astype(int))\n",
    "                [[\"name\", \"quantity\"]])\n",
    "starter_sets.head()"
   ]
  },
  {
   "cell_type": "code",
   "execution_count": 7,
   "metadata": {},
   "outputs": [
    {
     "name": "stdout",
     "output_type": "stream",
     "text": [
      "120 booster cards\n"
     ]
    },
    {
     "data": {
      "text/html": [
       "<div>\n",
       "<style scoped>\n",
       "    .dataframe tbody tr th:only-of-type {\n",
       "        vertical-align: middle;\n",
       "    }\n",
       "\n",
       "    .dataframe tbody tr th {\n",
       "        vertical-align: top;\n",
       "    }\n",
       "\n",
       "    .dataframe thead th {\n",
       "        text-align: right;\n",
       "    }\n",
       "</style>\n",
       "<table border=\"1\" class=\"dataframe\">\n",
       "  <thead>\n",
       "    <tr style=\"text-align: right;\">\n",
       "      <th></th>\n",
       "      <th>name</th>\n",
       "      <th>quantity</th>\n",
       "    </tr>\n",
       "  </thead>\n",
       "  <tbody>\n",
       "    <tr>\n",
       "      <th>0</th>\n",
       "      <td>Annihilation</td>\n",
       "      <td>1</td>\n",
       "    </tr>\n",
       "    <tr>\n",
       "      <th>1</th>\n",
       "      <td>Arcane Censure</td>\n",
       "      <td>1</td>\n",
       "    </tr>\n",
       "    <tr>\n",
       "      <th>2</th>\n",
       "      <td>Arm the Rebellion</td>\n",
       "      <td>3</td>\n",
       "    </tr>\n",
       "    <tr>\n",
       "      <th>4</th>\n",
       "      <td>Assassin's Veil</td>\n",
       "      <td>1</td>\n",
       "    </tr>\n",
       "    <tr>\n",
       "      <th>5</th>\n",
       "      <td>Avernus' Blessing</td>\n",
       "      <td>3</td>\n",
       "    </tr>\n",
       "  </tbody>\n",
       "</table>\n",
       "</div>"
      ],
      "text/plain": [
       "                name  quantity\n",
       "0       Annihilation         1\n",
       "1     Arcane Censure         1\n",
       "2  Arm the Rebellion         3\n",
       "4    Assassin's Veil         1\n",
       "5  Avernus' Blessing         3"
      ]
     },
     "execution_count": 7,
     "metadata": {},
     "output_type": "execute_result"
    }
   ],
   "source": [
    "my_boosters = (my_sales\n",
    "               .merge(starter_sets, on=\"name\", how=\"left\")\n",
    "               .fillna(0)\n",
    "               .assign(additional=lambda df: (df[\"count\"] - df[\"quantity\"]).astype(int))\n",
    "               .loc[lambda df: df[\"additional\"] > 0]\n",
    "               [[\"name\", \"additional\"]]\n",
    "               .rename(columns={\"additional\": \"quantity\"}))\n",
    "\n",
    "print(int(my_boosters[\"quantity\"].sum()), \"booster cards\")\n",
    "my_boosters.head()"
   ]
  },
  {
   "cell_type": "code",
   "execution_count": 8,
   "metadata": {},
   "outputs": [
    {
     "name": "stdout",
     "output_type": "stream",
     "text": [
      "62 sellable starter cards\n"
     ]
    },
    {
     "data": {
      "text/html": [
       "<div>\n",
       "<style scoped>\n",
       "    .dataframe tbody tr th:only-of-type {\n",
       "        vertical-align: middle;\n",
       "    }\n",
       "\n",
       "    .dataframe tbody tr th {\n",
       "        vertical-align: top;\n",
       "    }\n",
       "\n",
       "    .dataframe thead th {\n",
       "        text-align: right;\n",
       "    }\n",
       "</style>\n",
       "<table border=\"1\" class=\"dataframe\">\n",
       "  <thead>\n",
       "    <tr style=\"text-align: right;\">\n",
       "      <th></th>\n",
       "      <th>name</th>\n",
       "      <th>quantity</th>\n",
       "    </tr>\n",
       "  </thead>\n",
       "  <tbody>\n",
       "    <tr>\n",
       "      <th>2</th>\n",
       "      <td>Arm the Rebellion</td>\n",
       "      <td>2</td>\n",
       "    </tr>\n",
       "    <tr>\n",
       "      <th>3</th>\n",
       "      <td>Assassin's Apprentice</td>\n",
       "      <td>2</td>\n",
       "    </tr>\n",
       "    <tr>\n",
       "      <th>5</th>\n",
       "      <td>Avernus' Blessing</td>\n",
       "      <td>2</td>\n",
       "    </tr>\n",
       "    <tr>\n",
       "      <th>6</th>\n",
       "      <td>Barbed Mail</td>\n",
       "      <td>1</td>\n",
       "    </tr>\n",
       "    <tr>\n",
       "      <th>9</th>\n",
       "      <td>Blade of the Vigil</td>\n",
       "      <td>1</td>\n",
       "    </tr>\n",
       "  </tbody>\n",
       "</table>\n",
       "</div>"
      ],
      "text/plain": [
       "                    name  quantity\n",
       "2      Arm the Rebellion         2\n",
       "3  Assassin's Apprentice         2\n",
       "5      Avernus' Blessing         2\n",
       "6            Barbed Mail         1\n",
       "9     Blade of the Vigil         1"
      ]
     },
     "execution_count": 8,
     "metadata": {},
     "output_type": "execute_result"
    }
   ],
   "source": [
    "sellable_starters = (my_sales\n",
    "                     .merge(my_boosters, on=\"name\", how=\"left\")\n",
    "                     .fillna(0)\n",
    "                     .assign(additional=lambda df: (df[\"count\"] - df[\"quantity\"]).astype(int))\n",
    "                     .loc[lambda df: df[\"additional\"] > 0]\n",
    "                     [[\"name\", \"additional\"]]\n",
    "                     .rename(columns={\"additional\": \"quantity\"}))\n",
    "\n",
    "print(int(sellable_starters[\"quantity\"].sum()), \"sellable starter cards\")\n",
    "sellable_starters.head()"
   ]
  },
  {
   "cell_type": "markdown",
   "metadata": {},
   "source": [
    "## Booster Distribution"
   ]
  },
  {
   "cell_type": "markdown",
   "metadata": {},
   "source": [
    "Each Booster pack contains 12 cards\n",
    "* 1 Rare, 3 Uncommon, 8 Common Cards\n",
    "* Common, then Uncommon cards have a 5% chance of upgrading\n",
    "* 1 Card will be a Hero\n",
    "* 2 Cards will be Items\n",
    "\n",
    "I'll be simulating boosters, drawing prices from the market for every `rarity-category` to get a 10 booster price distribution."
   ]
  },
  {
   "cell_type": "markdown",
   "metadata": {},
   "source": [
    "### Card Key\n",
    "\n",
    "For efficient random sampling i'm assigning a unique prime to every card attribute that I care about, here that's `rarity` and `type`\n",
    "\n",
    "i.e. a `rare-hero` would be $3 \\times 11 = 33$"
   ]
  },
  {
   "cell_type": "code",
   "execution_count": 9,
   "metadata": {},
   "outputs": [
    {
     "data": {
      "text/html": [
       "<div>\n",
       "<style scoped>\n",
       "    .dataframe tbody tr th:only-of-type {\n",
       "        vertical-align: middle;\n",
       "    }\n",
       "\n",
       "    .dataframe tbody tr th {\n",
       "        vertical-align: top;\n",
       "    }\n",
       "\n",
       "    .dataframe thead th {\n",
       "        text-align: right;\n",
       "    }\n",
       "</style>\n",
       "<table border=\"1\" class=\"dataframe\">\n",
       "  <thead>\n",
       "    <tr style=\"text-align: right;\">\n",
       "      <th></th>\n",
       "      <th>rarity_key</th>\n",
       "      <th>rarity</th>\n",
       "      <th>category_key</th>\n",
       "      <th>category</th>\n",
       "    </tr>\n",
       "    <tr>\n",
       "      <th>combo_key</th>\n",
       "      <th></th>\n",
       "      <th></th>\n",
       "      <th></th>\n",
       "      <th></th>\n",
       "    </tr>\n",
       "  </thead>\n",
       "  <tbody>\n",
       "    <tr>\n",
       "      <th>5</th>\n",
       "      <td>1</td>\n",
       "      <td>common</td>\n",
       "      <td>5</td>\n",
       "      <td>other</td>\n",
       "    </tr>\n",
       "    <tr>\n",
       "      <th>7</th>\n",
       "      <td>1</td>\n",
       "      <td>common</td>\n",
       "      <td>7</td>\n",
       "      <td>item</td>\n",
       "    </tr>\n",
       "    <tr>\n",
       "      <th>11</th>\n",
       "      <td>1</td>\n",
       "      <td>common</td>\n",
       "      <td>11</td>\n",
       "      <td>hero</td>\n",
       "    </tr>\n",
       "    <tr>\n",
       "      <th>10</th>\n",
       "      <td>2</td>\n",
       "      <td>uncommon</td>\n",
       "      <td>5</td>\n",
       "      <td>other</td>\n",
       "    </tr>\n",
       "    <tr>\n",
       "      <th>14</th>\n",
       "      <td>2</td>\n",
       "      <td>uncommon</td>\n",
       "      <td>7</td>\n",
       "      <td>item</td>\n",
       "    </tr>\n",
       "    <tr>\n",
       "      <th>22</th>\n",
       "      <td>2</td>\n",
       "      <td>uncommon</td>\n",
       "      <td>11</td>\n",
       "      <td>hero</td>\n",
       "    </tr>\n",
       "    <tr>\n",
       "      <th>15</th>\n",
       "      <td>3</td>\n",
       "      <td>rare</td>\n",
       "      <td>5</td>\n",
       "      <td>other</td>\n",
       "    </tr>\n",
       "    <tr>\n",
       "      <th>21</th>\n",
       "      <td>3</td>\n",
       "      <td>rare</td>\n",
       "      <td>7</td>\n",
       "      <td>item</td>\n",
       "    </tr>\n",
       "    <tr>\n",
       "      <th>33</th>\n",
       "      <td>3</td>\n",
       "      <td>rare</td>\n",
       "      <td>11</td>\n",
       "      <td>hero</td>\n",
       "    </tr>\n",
       "  </tbody>\n",
       "</table>\n",
       "</div>"
      ],
      "text/plain": [
       "           rarity_key    rarity  category_key category\n",
       "combo_key                                             \n",
       "5                   1    common             5    other\n",
       "7                   1    common             7     item\n",
       "11                  1    common            11     hero\n",
       "10                  2  uncommon             5    other\n",
       "14                  2  uncommon             7     item\n",
       "22                  2  uncommon            11     hero\n",
       "15                  3      rare             5    other\n",
       "21                  3      rare             7     item\n",
       "33                  3      rare            11     hero"
      ]
     },
     "execution_count": 9,
     "metadata": {},
     "output_type": "execute_result"
    }
   ],
   "source": [
    "rarity_key = {\"common\": 1, \"uncommon\": 2, \"rare\": 3}\n",
    "category_key = {\"other\": 5, \"item\": 7, \"hero\": 11}\n",
    "\n",
    "acc = []\n",
    "for (rv, rk) in rarity_key.items():\n",
    "    for (tv, tk) in category_key.items():\n",
    "        acc.append((rk, rv, tk, tv, rk*tk))\n",
    "\n",
    "card_keys = (pd.DataFrame(acc, columns=[\"rarity_key\", \"rarity\", \"category_key\", \"category\", \"combo_key\"])\n",
    "             .set_index(\"combo_key\"))\n",
    "card_keys"
   ]
  },
  {
   "cell_type": "markdown",
   "metadata": {},
   "source": [
    "### Sampled Boosters"
   ]
  },
  {
   "cell_type": "code",
   "execution_count": 10,
   "metadata": {},
   "outputs": [],
   "source": [
    "NUM_BOOSTERS = 10\n",
    "NUM_SAMPLES = 1000000"
   ]
  },
  {
   "cell_type": "markdown",
   "metadata": {},
   "source": [
    "#### Sampled Rarity"
   ]
  },
  {
   "cell_type": "code",
   "execution_count": 11,
   "metadata": {},
   "outputs": [
    {
     "name": "stdout",
     "output_type": "stream",
     "text": [
      "(1000000, 10, 12)\n"
     ]
    },
    {
     "data": {
      "text/plain": [
       "array([[3, 2, 2, 2, 1, 1, 1, 2, 1, 1, 1, 1],\n",
       "       [3, 2, 2, 2, 1, 2, 1, 1, 2, 1, 1, 1],\n",
       "       [3, 2, 2, 2, 2, 1, 1, 1, 1, 1, 1, 1]])"
      ]
     },
     "execution_count": 11,
     "metadata": {},
     "output_type": "execute_result"
    }
   ],
   "source": [
    "# 1 Rare Card, 3 Uncommon and 8 Common cards per Booster\n",
    "base_rarities = 1 * [rarity_key[\"rare\"]] +\\\n",
    "                3 * [rarity_key[\"uncommon\"]] +\\\n",
    "                8 * [rarity_key[\"common\"]]\n",
    "\n",
    "# I want NUM_SAMPLES of NUM_BOOSTERS per row\n",
    "sample_base_rarities = np.tile(base_rarities, (NUM_SAMPLES, NUM_BOOSTERS, 1)) \n",
    "\n",
    "# Common Cards have a 5% chance of upgrading to Uncommon and upgraded Uncommons have a 5% chance of upgrading to Rare\n",
    "upgrade_common = ((stats.multinomial.rvs(n=1, p=[0.95, 0.0475, 0.0125], size=(NUM_SAMPLES, NUM_BOOSTERS, 8)) *\\\n",
    "                   np.tile([0, 1, 2], (NUM_SAMPLES, NUM_BOOSTERS, 8, 1)))\n",
    "                  .sum(axis=3))\n",
    "\n",
    "# Uncommon Cards have a 5% chance of upgrading to Rare\n",
    "upgrade_uncommon = stats.binom.rvs(n=1, p=0.05, size=(NUM_SAMPLES, NUM_BOOSTERS, 3))\n",
    "\n",
    "# Rare Cards can't upgrade\n",
    "upgrade_rare = np.zeros((NUM_SAMPLES, NUM_BOOSTERS, 1))\n",
    "\n",
    "# Stitching together the Upgrade Matrix, (NUM_SAMPLES< NUM_BOOSTERS, 12)\n",
    "upgrade_rarities = np.concatenate([upgrade_rare, upgrade_uncommon, upgrade_common], axis=2)\n",
    "\n",
    "# Upgrading the base samples\n",
    "sample_rarities = sample_base_rarities + upgrade_rarities.astype(int)\n",
    "print(sample_rarities.shape)\n",
    "sample_rarities[0, 0:3]"
   ]
  },
  {
   "cell_type": "markdown",
   "metadata": {},
   "source": [
    "#### Sampled Categories "
   ]
  },
  {
   "cell_type": "code",
   "execution_count": 12,
   "metadata": {},
   "outputs": [
    {
     "name": "stdout",
     "output_type": "stream",
     "text": [
      "(1000000, 10, 12)\n"
     ]
    },
    {
     "data": {
      "text/plain": [
       "array([[ 5,  5,  7,  5,  5,  5,  5,  7,  5,  5, 11,  5],\n",
       "       [ 5,  5,  7,  5,  5,  5,  5,  5,  5, 11,  7,  5],\n",
       "       [ 5,  5, 11,  5,  7,  5,  5,  5,  5,  5,  5,  7]])"
      ]
     },
     "execution_count": 12,
     "metadata": {},
     "output_type": "execute_result"
    }
   ],
   "source": [
    "# 1 Hero, 2 Items and 9 'Other'\n",
    "base_categories = 1 * [category_key[\"hero\"]] +\\\n",
    "                  2 * [category_key[\"item\"]] +\\\n",
    "                  9 * [category_key[\"other\"]]\n",
    "\n",
    "# Again NUM_SAMPLES of NUM_BOOSTERS per row\n",
    "sample_categories = np.tile(base_categories, (NUM_SAMPLES, NUM_BOOSTERS, 1))\n",
    "\n",
    "# Here for every booster, I shuffle the possible types\n",
    "for boostset_categories in sample_categories:\n",
    "    for booster_categories in boostset_categories:\n",
    "        np.random.shuffle(booster_categories)\n",
    "\n",
    "print(sample_categories.shape)\n",
    "sample_categories[0, 0:3]"
   ]
  },
  {
   "cell_type": "markdown",
   "metadata": {},
   "source": [
    "#### Putting them together"
   ]
  },
  {
   "cell_type": "code",
   "execution_count": 13,
   "metadata": {},
   "outputs": [
    {
     "name": "stdout",
     "output_type": "stream",
     "text": [
      "(1000000, 10, 12)\n"
     ]
    },
    {
     "data": {
      "text/plain": [
       "array([[15, 10, 14, 10,  5,  5,  5, 14,  5,  5, 11,  5],\n",
       "       [15, 10, 14, 10,  5, 10,  5,  5, 10, 11,  7,  5],\n",
       "       [15, 10, 22, 10, 14,  5,  5,  5,  5,  5,  5,  7]])"
      ]
     },
     "execution_count": 13,
     "metadata": {},
     "output_type": "execute_result"
    }
   ],
   "source": [
    "sample_boostsets = sample_rarities * sample_categories\n",
    "print(sample_boostsets.shape)\n",
    "sample_boostsets[0, 0:3]"
   ]
  },
  {
   "cell_type": "markdown",
   "metadata": {},
   "source": [
    "#### Flattening each Sample"
   ]
  },
  {
   "cell_type": "code",
   "execution_count": 14,
   "metadata": {},
   "outputs": [
    {
     "name": "stdout",
     "output_type": "stream",
     "text": [
      "(1000000, 9)\n"
     ]
    },
    {
     "data": {
      "text/plain": [
       "array([[51, 12,  7, 30,  7,  3,  9,  1,  0],\n",
       "       [60, 12,  7, 23,  7,  1,  7,  1,  2],\n",
       "       [58, 13,  6, 26,  5,  2,  6,  2,  2]])"
      ]
     },
     "execution_count": 14,
     "metadata": {},
     "output_type": "execute_result"
    }
   ],
   "source": [
    "# `np.bincount` returns the number of each `rarity-type` combination per sample\n",
    "acc = []\n",
    "for sample in sample_boostsets.reshape(NUM_SAMPLES, -1):\n",
    "    acc.append(np.bincount(sample, minlength=34)[card_keys.index]) # the order matches the order in `card_keys`\n",
    "samples = np.vstack(acc)\n",
    "print(samples.shape)\n",
    "samples[:3]"
   ]
  },
  {
   "cell_type": "markdown",
   "metadata": {},
   "source": [
    "### Card Distribution\n",
    "\n",
    "What does the distibution of `rarity-category` look like in NUM_BOOSTERS Boosters"
   ]
  },
  {
   "cell_type": "code",
   "execution_count": 15,
   "metadata": {},
   "outputs": [
    {
     "data": {
      "text/html": [
       "<div>\n",
       "<style scoped>\n",
       "    .dataframe tbody tr th:only-of-type {\n",
       "        vertical-align: middle;\n",
       "    }\n",
       "\n",
       "    .dataframe tbody tr th {\n",
       "        vertical-align: top;\n",
       "    }\n",
       "\n",
       "    .dataframe thead th {\n",
       "        text-align: right;\n",
       "    }\n",
       "</style>\n",
       "<table border=\"1\" class=\"dataframe\">\n",
       "  <thead>\n",
       "    <tr style=\"text-align: right;\">\n",
       "      <th></th>\n",
       "      <th>rarity</th>\n",
       "      <th>category</th>\n",
       "      <th>lower</th>\n",
       "      <th>upper</th>\n",
       "      <th>mean</th>\n",
       "    </tr>\n",
       "    <tr>\n",
       "      <th>combo_key</th>\n",
       "      <th></th>\n",
       "      <th></th>\n",
       "      <th></th>\n",
       "      <th></th>\n",
       "      <th></th>\n",
       "    </tr>\n",
       "  </thead>\n",
       "  <tbody>\n",
       "    <tr>\n",
       "      <th>5</th>\n",
       "      <td>common</td>\n",
       "      <td>other</td>\n",
       "      <td>53</td>\n",
       "      <td>61</td>\n",
       "      <td>57</td>\n",
       "    </tr>\n",
       "    <tr>\n",
       "      <th>7</th>\n",
       "      <td>common</td>\n",
       "      <td>item</td>\n",
       "      <td>9</td>\n",
       "      <td>16</td>\n",
       "      <td>13</td>\n",
       "    </tr>\n",
       "    <tr>\n",
       "      <th>11</th>\n",
       "      <td>common</td>\n",
       "      <td>hero</td>\n",
       "      <td>4</td>\n",
       "      <td>9</td>\n",
       "      <td>6</td>\n",
       "    </tr>\n",
       "    <tr>\n",
       "      <th>10</th>\n",
       "      <td>uncommon</td>\n",
       "      <td>other</td>\n",
       "      <td>20</td>\n",
       "      <td>29</td>\n",
       "      <td>24</td>\n",
       "    </tr>\n",
       "    <tr>\n",
       "      <th>14</th>\n",
       "      <td>uncommon</td>\n",
       "      <td>item</td>\n",
       "      <td>2</td>\n",
       "      <td>9</td>\n",
       "      <td>5</td>\n",
       "    </tr>\n",
       "    <tr>\n",
       "      <th>22</th>\n",
       "      <td>uncommon</td>\n",
       "      <td>hero</td>\n",
       "      <td>1</td>\n",
       "      <td>5</td>\n",
       "      <td>3</td>\n",
       "    </tr>\n",
       "    <tr>\n",
       "      <th>15</th>\n",
       "      <td>rare</td>\n",
       "      <td>other</td>\n",
       "      <td>6</td>\n",
       "      <td>12</td>\n",
       "      <td>9</td>\n",
       "    </tr>\n",
       "    <tr>\n",
       "      <th>21</th>\n",
       "      <td>rare</td>\n",
       "      <td>item</td>\n",
       "      <td>0</td>\n",
       "      <td>4</td>\n",
       "      <td>2</td>\n",
       "    </tr>\n",
       "    <tr>\n",
       "      <th>33</th>\n",
       "      <td>rare</td>\n",
       "      <td>hero</td>\n",
       "      <td>0</td>\n",
       "      <td>3</td>\n",
       "      <td>1</td>\n",
       "    </tr>\n",
       "  </tbody>\n",
       "</table>\n",
       "</div>"
      ],
      "text/plain": [
       "             rarity category  lower  upper  mean\n",
       "combo_key                                       \n",
       "5            common    other     53     61    57\n",
       "7            common     item      9     16    13\n",
       "11           common     hero      4      9     6\n",
       "10         uncommon    other     20     29    24\n",
       "14         uncommon     item      2      9     5\n",
       "22         uncommon     hero      1      5     3\n",
       "15             rare    other      6     12     9\n",
       "21             rare     item      0      4     2\n",
       "33             rare     hero      0      3     1"
      ]
     },
     "execution_count": 15,
     "metadata": {},
     "output_type": "execute_result"
    }
   ],
   "source": [
    "# Calculating the mean and percentiles across all the samples\n",
    "card_distribution = (pd.DataFrame(np.vstack([np.percentile(samples, [5.5, 94.5], axis=0),\n",
    "                                             np.mean(samples, axis=0)]).T,\n",
    "                                  columns=[\"lower\", \"upper\", \"mean\"],\n",
    "                                  index=card_keys.index)\n",
    "                     .round()\n",
    "                     .astype(int)\n",
    "                     .join(card_keys[[\"rarity\", \"category\"]])\n",
    "                     [[\"rarity\", \"category\", \"lower\", \"upper\", \"mean\"]])\n",
    "card_distribution"
   ]
  },
  {
   "cell_type": "markdown",
   "metadata": {},
   "source": [
    "##### Plotting this distribution"
   ]
  },
  {
   "cell_type": "code",
   "execution_count": 16,
   "metadata": {},
   "outputs": [
    {
     "data": {
      "image/png": "[encoded data removed]",
      "text/plain": [
       "<Figure size 972x648 with 1 Axes>"
      ]
     },
     "metadata": {},
     "output_type": "display_data"
    }
   ],
   "source": [
    "data = (card_distribution\n",
    "        .assign(combo_str=lambda df: df[\"rarity\"] + \"\\n\" + df[\"category\"]))\n",
    "\n",
    "hpdi = np.abs(data[\"mean\"].values.reshape(-1, 1) - data[[\"lower\", \"upper\"]].values).T\n",
    "\n",
    "f, ax = plt.subplots(1, 1)\n",
    "f.set_size_inches(13.5, 9)\n",
    "sns.barplot(ax=ax, data=data, x=\"combo_str\", y=\"mean\")\n",
    "ax.errorbar(data[\"combo_str\"], data[\"mean\"], fmt=\"o\", yerr=hpdi)\n",
    "\n",
    "ax.set_title(\"Card Distribution for {} samples of 10 boosters\\n\".format(NUM_SAMPLES, NUM_BOOSTERS))\n",
    "ax.set_ylabel(\"number of cards\")\n",
    "ax.set_xlabel(\"\");"
   ]
  },
  {
   "cell_type": "markdown",
   "metadata": {},
   "source": [
    "## Expected Prices\n",
    "\n",
    "Using the card distribution, I can build the expected price distribution based on the prices of each `rarity-category` on the market."
   ]
  },
  {
   "cell_type": "markdown",
   "metadata": {},
   "source": [
    "#### Market Prices"
   ]
  },
  {
   "cell_type": "code",
   "execution_count": 17,
   "metadata": {},
   "outputs": [
    {
     "data": {
      "text/html": [
       "<div>\n",
       "<style scoped>\n",
       "    .dataframe tbody tr th:only-of-type {\n",
       "        vertical-align: middle;\n",
       "    }\n",
       "\n",
       "    .dataframe tbody tr th {\n",
       "        vertical-align: top;\n",
       "    }\n",
       "\n",
       "    .dataframe thead th {\n",
       "        text-align: right;\n",
       "    }\n",
       "</style>\n",
       "<table border=\"1\" class=\"dataframe\">\n",
       "  <thead>\n",
       "    <tr style=\"text-align: right;\">\n",
       "      <th></th>\n",
       "      <th>rarity</th>\n",
       "      <th>category</th>\n",
       "      <th>price</th>\n",
       "      <th>count</th>\n",
       "    </tr>\n",
       "    <tr>\n",
       "      <th>combo_key</th>\n",
       "      <th></th>\n",
       "      <th></th>\n",
       "      <th></th>\n",
       "      <th></th>\n",
       "    </tr>\n",
       "  </thead>\n",
       "  <tbody>\n",
       "    <tr>\n",
       "      <th>5</th>\n",
       "      <td>common</td>\n",
       "      <td>other</td>\n",
       "      <td>[2.11, 2.3, 2.23, 2.2, 2.14, 1.9, 2.25, 2.12, ...</td>\n",
       "      <td>48</td>\n",
       "    </tr>\n",
       "    <tr>\n",
       "      <th>7</th>\n",
       "      <td>common</td>\n",
       "      <td>item</td>\n",
       "      <td>[2.18, 1.9, 2.07, 2.27, 2.22, 2.13, 2.15, 2.19...</td>\n",
       "      <td>14</td>\n",
       "    </tr>\n",
       "    <tr>\n",
       "      <th>11</th>\n",
       "      <td>common</td>\n",
       "      <td>hero</td>\n",
       "      <td>[2.22, 2.48, 2.57, 2.55, 2.24, 2.64, 2.48, 2.2...</td>\n",
       "      <td>20</td>\n",
       "    </tr>\n",
       "    <tr>\n",
       "      <th>10</th>\n",
       "      <td>uncommon</td>\n",
       "      <td>other</td>\n",
       "      <td>[2.53, 2.08, 2.21, 2.96, 2.12, 2.23, 3.37, 2.4...</td>\n",
       "      <td>52</td>\n",
       "    </tr>\n",
       "    <tr>\n",
       "      <th>14</th>\n",
       "      <td>uncommon</td>\n",
       "      <td>item</td>\n",
       "      <td>[2.53, 92.55, 12.82, 2.19, 5.07, 2.54, 2.41, 2...</td>\n",
       "      <td>14</td>\n",
       "    </tr>\n",
       "    <tr>\n",
       "      <th>22</th>\n",
       "      <td>uncommon</td>\n",
       "      <td>hero</td>\n",
       "      <td>[2.12, 13.35, 6.52, 2.48, 2.88, 2.42, 3.75, 7....</td>\n",
       "      <td>12</td>\n",
       "    </tr>\n",
       "    <tr>\n",
       "      <th>15</th>\n",
       "      <td>rare</td>\n",
       "      <td>other</td>\n",
       "      <td>[475.3, 211.79, 65.11, 8.22, 15.83, 6.51, 4.8,...</td>\n",
       "      <td>52</td>\n",
       "    </tr>\n",
       "    <tr>\n",
       "      <th>21</th>\n",
       "      <td>rare</td>\n",
       "      <td>item</td>\n",
       "      <td>[58.88, 9.71, 6.86, 159.01, 6.37, 14.16, 6.4, ...</td>\n",
       "      <td>13</td>\n",
       "    </tr>\n",
       "    <tr>\n",
       "      <th>33</th>\n",
       "      <td>rare</td>\n",
       "      <td>hero</td>\n",
       "      <td>[914.83, 45.02, 50.02, 674.14, 63.16, 360.21, ...</td>\n",
       "      <td>12</td>\n",
       "    </tr>\n",
       "  </tbody>\n",
       "</table>\n",
       "</div>"
      ],
      "text/plain": [
       "             rarity category  \\\n",
       "combo_key                      \n",
       "5            common    other   \n",
       "7            common     item   \n",
       "11           common     hero   \n",
       "10         uncommon    other   \n",
       "14         uncommon     item   \n",
       "22         uncommon     hero   \n",
       "15             rare    other   \n",
       "21             rare     item   \n",
       "33             rare     hero   \n",
       "\n",
       "                                                       price  count  \n",
       "combo_key                                                            \n",
       "5          [2.11, 2.3, 2.23, 2.2, 2.14, 1.9, 2.25, 2.12, ...     48  \n",
       "7          [2.18, 1.9, 2.07, 2.27, 2.22, 2.13, 2.15, 2.19...     14  \n",
       "11         [2.22, 2.48, 2.57, 2.55, 2.24, 2.64, 2.48, 2.2...     20  \n",
       "10         [2.53, 2.08, 2.21, 2.96, 2.12, 2.23, 3.37, 2.4...     52  \n",
       "14         [2.53, 92.55, 12.82, 2.19, 5.07, 2.54, 2.41, 2...     14  \n",
       "22         [2.12, 13.35, 6.52, 2.48, 2.88, 2.42, 3.75, 7....     12  \n",
       "15         [475.3, 211.79, 65.11, 8.22, 15.83, 6.51, 4.8,...     52  \n",
       "21         [58.88, 9.71, 6.86, 159.01, 6.37, 14.16, 6.4, ...     13  \n",
       "33         [914.83, 45.02, 50.02, 674.14, 63.16, 360.21, ...     12  "
      ]
     },
     "execution_count": 17,
     "metadata": {},
     "output_type": "execute_result"
    }
   ],
   "source": [
    "# Collecting all market prices by `rarity-category`\n",
    "combo_prices = (market\n",
    "                .merge(all_cards, on=\"name\")\n",
    "                .assign(rarity=lambda df: df[\"rarity\"].str.lower())\n",
    "                .assign(category=lambda df: df[\"category\"].str.lower())\n",
    "                .assign(category=lambda df: np.where(df[\"category\"].isin(category_key.keys()),\n",
    "                                                     df[\"category\"],\n",
    "                                                     \"other\"))\n",
    "                .merge(card_keys.reset_index(), on=[\"rarity\", \"category\"])\n",
    "                .groupby([\"combo_key\", \"rarity\", \"category\"])\n",
    "                .agg({\"price\": list,\n",
    "                      \"name\": \"count\"})\n",
    "                .rename(columns={\"name\": \"count\"})\n",
    "                .reset_index(level=[1, 2])\n",
    "                .loc[card_keys.index])\n",
    "combo_prices"
   ]
  },
  {
   "cell_type": "markdown",
   "metadata": {},
   "source": [
    "#### Price Matrix\n",
    "\n",
    "Creating a $9 \\times \\text{max}(\\mathit{count})$ matrix padded with 0s for more efficient price sampling"
   ]
  },
  {
   "cell_type": "code",
   "execution_count": 18,
   "metadata": {},
   "outputs": [
    {
     "name": "stdout",
     "output_type": "stream",
     "text": [
      "(9, 52)\n"
     ]
    },
    {
     "data": {
      "text/plain": [
       "array([[2.11, 2.3 , 2.23],\n",
       "       [2.18, 1.9 , 2.07],\n",
       "       [2.22, 2.48, 2.57]])"
      ]
     },
     "execution_count": 18,
     "metadata": {},
     "output_type": "execute_result"
    }
   ],
   "source": [
    "max_count = combo_prices[\"count\"].max()\n",
    "\n",
    "acc = []\n",
    "for idx in card_keys.index:\n",
    "    idx_prices = combo_prices.loc[idx][\"price\"]\n",
    "    idx_padding = max_count - combo_prices.loc[idx][\"count\"]\n",
    "    idx_padded = np.pad(idx_prices, (0, idx_padding), \"constant\")\n",
    "    acc.append(idx_padded)\n",
    "price_matrix = np.vstack(acc)\n",
    "\n",
    "print(price_matrix.shape)\n",
    "price_matrix[0:3, 0:3]"
   ]
  },
  {
   "cell_type": "markdown",
   "metadata": {},
   "source": [
    "#### Sample Prices"
   ]
  },
  {
   "cell_type": "code",
   "execution_count": 19,
   "metadata": {},
   "outputs": [
    {
     "name": "stdout",
     "output_type": "stream",
     "text": [
      "(1000000,)\n"
     ]
    },
    {
     "data": {
      "text/plain": [
       "array([747.19, 796.1 , 310.4 ])"
      ]
     },
     "execution_count": 19,
     "metadata": {},
     "output_type": "execute_result"
    }
   ],
   "source": [
    "# The Poisson lambda for each draw should be number_of_items/number_of_prices, \n",
    "# This approximates drawing from prices, uniformly and with replacement.\n",
    "\n",
    "samples_lambda = samples/combo_prices[\"count\"].values\n",
    "\n",
    "# For each sample, draw a price from the poisson and sum the result\n",
    "\n",
    "acc = []\n",
    "for sample_lambda in samples_lambda:\n",
    "    sample_draws = stats.poisson.rvs(np.tile(samples_lambda[0], (max_count, 1)).T)\n",
    "    sample_price = np.sum(sample_draws * price_matrix)\n",
    "    acc.append(sample_price)\n",
    "\n",
    "samples_price = np.array(acc)\n",
    "print(samples_price.shape)\n",
    "samples_price[:3]"
   ]
  },
  {
   "cell_type": "markdown",
   "metadata": {},
   "source": [
    "### Probability of Breaking Even\n",
    "\n",
    "To each price, I'll add the prices of the sold starter cards and reduce the whole thing by 15% (Valve's Cut)"
   ]
  },
  {
   "cell_type": "code",
   "execution_count": 20,
   "metadata": {},
   "outputs": [
    {
     "data": {
      "text/plain": [
       "131.26"
      ]
     },
     "execution_count": 20,
     "metadata": {},
     "output_type": "execute_result"
    }
   ],
   "source": [
    "starter_price = (sellable_starters\n",
    "                 .merge(market, on=\"name\")\n",
    "                 .assign(total=lambda df: df[\"price\"] * df[\"quantity\"])\n",
    "                 [\"total\"]\n",
    "                 .sum())\n",
    "starter_price"
   ]
  },
  {
   "cell_type": "code",
   "execution_count": 21,
   "metadata": {},
   "outputs": [
    {
     "name": "stdout",
     "output_type": "stream",
     "text": [
      "(1000000,)\n"
     ]
    },
    {
     "data": {
      "text/plain": [
       "array([746.6825, 788.256 , 375.411 ])"
      ]
     },
     "execution_count": 21,
     "metadata": {},
     "output_type": "execute_result"
    }
   ],
   "source": [
    "samples_income = (samples_price + starter_price) * 0.85\n",
    "print(samples_income.shape)\n",
    "samples_income[:3]"
   ]
  },
  {
   "cell_type": "markdown",
   "metadata": {},
   "source": [
    "The current price of Artifact is 1499 INR, therefore I'm looking for $P(\\mathit{income} \\ge 1499)$"
   ]
  },
  {
   "cell_type": "code",
   "execution_count": 22,
   "metadata": {},
   "outputs": [
    {
     "name": "stdout",
     "output_type": "stream",
     "text": [
      "P(income > 1499) = 0.02838\n"
     ]
    }
   ],
   "source": [
    "print(\"P(income > 1499) =\", (samples_income > 1499).sum()/NUM_SAMPLES)"
   ]
  },
  {
   "cell_type": "code",
   "execution_count": 23,
   "metadata": {},
   "outputs": [
    {
     "data": {
      "image/png": "[encoded data removed]",
      "text/plain": [
       "<Figure size 972x648 with 1 Axes>"
      ]
     },
     "metadata": {},
     "output_type": "display_data"
    }
   ],
   "source": [
    "f, ax = plt.subplots(1, 1)\n",
    "f.set_size_inches(13.5, 9)\n",
    "sns.kdeplot(samples_income)\n",
    "ax.vlines(1499, 0, 0.002, alpha=0.2)\n",
    "ax.text(1499, 0.00065, \" 1499 INR\")\n",
    "ax.set_title(\"Sample Income KDE\\n\"\n",
    "             \"as of 2018/12/11\")\n",
    "ax.set_xlabel(\"market price for 10 boosters + Starters - 15% (INR)\");"
   ]
  },
  {
   "cell_type": "markdown",
   "metadata": {},
   "source": [
    "## Conclusion"
   ]
  },
  {
   "cell_type": "code",
   "execution_count": 24,
   "metadata": {},
   "outputs": [
    {
     "data": {
      "text/html": [
       "<div>\n",
       "<style scoped>\n",
       "    .dataframe tbody tr th:only-of-type {\n",
       "        vertical-align: middle;\n",
       "    }\n",
       "\n",
       "    .dataframe tbody tr th {\n",
       "        vertical-align: top;\n",
       "    }\n",
       "\n",
       "    .dataframe thead th {\n",
       "        text-align: right;\n",
       "    }\n",
       "</style>\n",
       "<table border=\"1\" class=\"dataframe\">\n",
       "  <thead>\n",
       "    <tr style=\"text-align: right;\">\n",
       "      <th></th>\n",
       "      <th>Summary</th>\n",
       "    </tr>\n",
       "  </thead>\n",
       "  <tbody>\n",
       "    <tr>\n",
       "      <th>Mean</th>\n",
       "      <td>837.24</td>\n",
       "    </tr>\n",
       "    <tr>\n",
       "      <th>5.5%</th>\n",
       "      <td>453.85</td>\n",
       "    </tr>\n",
       "    <tr>\n",
       "      <th>94.5%</th>\n",
       "      <td>1366.18</td>\n",
       "    </tr>\n",
       "    <tr>\n",
       "      <th>break even %</th>\n",
       "      <td>2.84</td>\n",
       "    </tr>\n",
       "  </tbody>\n",
       "</table>\n",
       "</div>"
      ],
      "text/plain": [
       "              Summary\n",
       "Mean           837.24\n",
       "5.5%           453.85\n",
       "94.5%         1366.18\n",
       "break even %     2.84"
      ]
     },
     "execution_count": 24,
     "metadata": {},
     "output_type": "execute_result"
    }
   ],
   "source": [
    "mu = samples_income.mean()\n",
    "(lb, ub) = np.percentile(samples_income, [5.5, 94.5])\n",
    "break_even = (samples_income > 1499).sum()/NUM_SAMPLES * 100\n",
    "pd.DataFrame([[mu, lb, ub, break_even]], \n",
    "             columns=[\"Mean\", \"5.5%\", \"94.5%\", \"break even %\"],\n",
    "             index=[\"Summary\"]).round(2).T"
   ]
  }
 ],
 "metadata": {
  "kernelspec": {
   "display_name": "Python 3",
   "language": "python",
   "name": "python3"
  },
  "language_info": {
   "codemirror_mode": {
    "name": "ipython",
    "version": 3
   },
   "file_extension": ".py",
   "mimetype": "text/x-python",
   "name": "python",
   "nbconvert_exporter": "python",
   "pygments_lexer": "ipython3",
   "version": "3.7.3"
  }
 },
 "nbformat": 4,
 "nbformat_minor": 4
}
